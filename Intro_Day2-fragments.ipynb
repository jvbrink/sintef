{
 "cells": [
  {
   "cell_type": "markdown",
   "metadata": {
    "slideshow": {
     "slide_type": "slide"
    }
   },
   "source": [
    "# Introduction to Python programming for scientific applications\n",
    "\n",
    "\n",
    "## Day 2\n",
    "* Part 1: More basics\n",
    " * Where to find more information\n",
    " * A new data type: the *dictionary*\n",
    " * Reading from and writing to files\n",
    " * Interpret content in files via string manipulation\n",
    "\n",
    " \n",
    "* Part 2: A glimpse into scipy\n",
    "  * Solving ODEs using scipy and numpy\n",
    "  * Simple image processing\n",
    "  * Reading and processing data files with pandas"
   ]
  },
  {
   "cell_type": "markdown",
   "metadata": {},
   "source": [
    "### Where to find more information\n",
    "\n",
    "* [Official Python documentation](https://docs.python.org/3.7/index.html)\n",
    "* [The Scipy collection](https://www.scipy.org)\n",
    "\n",
    "But as always, google is the best tool. The top hits for Python-related searches will often include the official documentation, and stackoverflow.com. "
   ]
  },
  {
   "cell_type": "markdown",
   "metadata": {
    "slideshow": {
     "slide_type": "slide"
    }
   },
   "source": [
    "## A dictionary is a generalization of a list\n",
    "\n",
    " Recall the basic features of lists: \n",
    "\n",
    "   * store a *sequence* of elements in a single object (`[1,3,-1]`)\n",
    "\n",
    "   * each element is a Python object\n",
    "\n",
    "   * the elements are indexed by integers 0, 1, ...\n",
    "\n",
    "The dictionary is a generalization of lists, where the indices can be numbers, text or other object. The dictionary in Python is hash, HashMap and associative array in other languages. Dictionaries are useful because the list index is sometimes unnatural for locating an element of a collection of objects. "
   ]
  },
  {
   "cell_type": "markdown",
   "metadata": {
    "slideshow": {
     "slide_type": "slide"
    }
   },
   "source": [
    "As an example, suppose we need to store the temperatures in Oslo, London and Paris. A solution based on lists may look like:"
   ]
  },
  {
   "cell_type": "code",
   "execution_count": 5,
   "metadata": {
    "slideshow": {
     "slide_type": "fragment"
    }
   },
   "outputs": [
    {
     "name": "stdout",
     "output_type": "stream",
     "text": [
      "The temperature in Oslo is 13 degrees\n"
     ]
    }
   ],
   "source": [
    "temps = [13, 15.4, 17.5]\n",
    "cities = ['Oslo','London','Paris']\n",
    "print(f'The temperature in {cities[0]} is {temps[0]} degrees')"
   ]
  },
  {
   "cell_type": "markdown",
   "metadata": {
    "slideshow": {
     "slide_type": "fragment"
    }
   },
   "source": [
    "We can look up a temperature by mapping a city and associated temperature to the same index, but it would be more natural to write `temps[Oslo]` directly. This is precisely what a dictionary allows, by providing a direct mapping from strings to objects:"
   ]
  },
  {
   "cell_type": "code",
   "execution_count": null,
   "metadata": {
    "collapsed": true
   },
   "outputs": [],
   "source": [
    "\n",
    "\n",
    "\n",
    "\n",
    "\n",
    "\n",
    "\n",
    "\n",
    "\n",
    "\n",
    "\n",
    "\n",
    "\n"
   ]
  },
  {
   "cell_type": "markdown",
   "metadata": {
    "slideshow": {
     "slide_type": "slide"
    }
   },
   "source": [
    "### Example: Polynomials represented by dictionaries\n",
    "\n",
    "The information in the polynomial"
   ]
  },
  {
   "cell_type": "markdown",
   "metadata": {
    "slideshow": {
     "slide_type": "fragment"
    }
   },
   "source": [
    "$$\n",
    "p(x)=-1 + x^2 + 3x^7\n",
    "$$"
   ]
  },
  {
   "cell_type": "markdown",
   "metadata": {
    "slideshow": {
     "slide_type": "fragment"
    }
   },
   "source": [
    "can be represented by a dict with power as key (`int`) and\n",
    "coefficient as value (`float`):"
   ]
  },
  {
   "cell_type": "code",
   "execution_count": 7,
   "metadata": {
    "collapsed": true,
    "slideshow": {
     "slide_type": "fragment"
    }
   },
   "outputs": [],
   "source": [
    "p = {0: -1, 2: 1, 7: 3.5}"
   ]
  },
  {
   "cell_type": "markdown",
   "metadata": {
    "slideshow": {
     "slide_type": "slide"
    }
   },
   "source": [
    "We evaluate the polynomial by looping and summing over the elements in the dictionary. To evaluate a general polynomial $\\sum_{i\\in I} c_ix^i$ for some $x$, we have:"
   ]
  },
  {
   "cell_type": "code",
   "execution_count": 9,
   "metadata": {
    "collapsed": true,
    "slideshow": {
     "slide_type": "fragment"
    }
   },
   "outputs": [],
   "source": [
    "def eval_poly_dict(poly, x):\n",
    "    value = 0.0\n",
    "    for power in poly:\n",
    "        value += poly[power]*x**power\n",
    "    return value\n"
   ]
  },
  {
   "cell_type": "markdown",
   "metadata": {
    "slideshow": {
     "slide_type": "fragment"
    }
   },
   "source": [
    "Or a shorter pro version:"
   ]
  },
  {
   "cell_type": "code",
   "execution_count": 10,
   "metadata": {
    "collapsed": true,
    "slideshow": {
     "slide_type": "fragment"
    }
   },
   "outputs": [],
   "source": [
    "def eval_poly_dict2(poly, x):\n",
    "    # Python's sum can add elements of an iterator\n",
    "    return sum(poly[power]*x**power for power in poly)"
   ]
  },
  {
   "cell_type": "markdown",
   "metadata": {
    "slideshow": {
     "slide_type": "slide"
    }
   },
   "source": [
    "### Quick exercise: adding polynomials\n",
    "\n",
    "Write a function `poly_add(p1, p2)` which takes as input two dictionaries representing polynomials, and returns the dictionary representing the sum of the two polynomials. "
   ]
  },
  {
   "cell_type": "code",
   "execution_count": 15,
   "metadata": {
    "collapsed": true,
    "slideshow": {
     "slide_type": "fragment"
    }
   },
   "outputs": [],
   "source": [
    "def poly_add(p1,p2):\n",
    "    result = p1.copy()\n",
    "    for power in p2:\n",
    "        if power in result:\n",
    "            result[power] += p2[power]\n",
    "        else:\n",
    "            result[power] = p2[power]\n",
    "    return result\n"
   ]
  },
  {
   "cell_type": "markdown",
   "metadata": {},
   "source": [
    "## Reading data from files\n",
    "\n",
    "Python has multiple ways to read data from a regular textfile:"
   ]
  },
  {
   "cell_type": "code",
   "execution_count": 4,
   "metadata": {
    "collapsed": true
   },
   "outputs": [],
   "source": [
    "infile  = open('data/filename.txt', 'r') # open file for reading\n",
    "\n",
    "line    = infile.readline()   # read the next line\n",
    "filestr = infile.read()       # read rest of file into string\n",
    "lines   = infile.readlines()  # read rest of file into list\n",
    "for line in infile:           # read rest of file line by line\n",
    "    pass\n",
    "infile.close()                # close the file"
   ]
  },
  {
   "cell_type": "markdown",
   "metadata": {},
   "source": [
    "## Example: Read file data into a dictionary\n",
    "\n",
    "Suppose we have data in a text file with the following format:"
   ]
  },
  {
   "cell_type": "raw",
   "metadata": {},
   "source": [
    "City           Temperature\n",
    "Oslo:          21.8\n",
    "London:        18.1\n",
    "Berlin:        19\n",
    "Paris:         23\n",
    "Rome:          26\n",
    "Helsinki:      17.8"
   ]
  },
  {
   "cell_type": "markdown",
   "metadata": {},
   "source": [
    "We want to store the data in a dictionary, with the city names as the keys and temperatures as values."
   ]
  },
  {
   "cell_type": "code",
   "execution_count": null,
   "metadata": {},
   "outputs": [],
   "source": []
  },
  {
   "cell_type": "markdown",
   "metadata": {},
   "source": [
    "### Exercise: Read tabular data into a nested dictionary\n",
    "\n",
    "**Data file `stars.txt`:**"
   ]
  },
  {
   "cell_type": "raw",
   "metadata": {
    "collapsed": true
   },
   "source": [
    "Name                distance brightness  luminosity\n",
    "Alpha Centauri A    4.3      0.26        1.56\n",
    "Alpha Centauri B    4.3      0.077       0.45\n",
    "Alpha Centauri C    4.2      0.00001     0.00006\n",
    "Sirius A            8.6      1.00        23.6\n"
   ]
  },
  {
   "cell_type": "markdown",
   "metadata": {},
   "source": [
    "We want to read the data from this file and store in a nested dictionary. In the main (outer) dictionary the key shall be the name of the star, and the corresponding value shall be a dictionary with keys `distance`, `brightness`, and `luminosity`, and the corresponding values as values. "
   ]
  },
  {
   "cell_type": "code",
   "execution_count": null,
   "metadata": {
    "collapsed": true
   },
   "outputs": [],
   "source": [
    "infile = open('data/stars.txt','r')\n",
    "\n",
    "#your code here"
   ]
  },
  {
   "cell_type": "markdown",
   "metadata": {},
   "source": [
    "## Part 2: A glimpse into scipy\n",
    "### Solving ODEs in Python\n",
    "\n",
    "Many physical phenomena can be described by systems of ordinary differential equations\n",
    "$$ \\frac{du}{dt} = f(t,u), u(0) = u0 $$\n",
    "\n",
    "As an example, we return to the formula from yesterday, for the motion of a ball:\n",
    "$$y(t) = v_0 t + \\frac{1}{2}at^2$$\n",
    "\n",
    "But this is really the solution of a system of ODEs:\n",
    "$$ y'(t) = v \\\\ v'(t) = a $$\n",
    "with initial conditions $y(0) = 0, v(0) = v_0$.\n",
    "\n",
    "How can we solve such a system in Python?\n",
    "\n",
    "The simplest ODE solver available is the forward Euler method. Assume we know the solution $u_n$ at time $t_n$,\n",
    "the approximate solution at $t_{n+1}= t_n+\\Delta t$ is given by:\n",
    "$$\n",
    "u_{n+1} = u_n + \\Delta t f(t_n,u_n)\n",
    "$$\n",
    "\n"
   ]
  },
  {
   "cell_type": "code",
   "execution_count": 1,
   "metadata": {},
   "outputs": [],
   "source": [
    "import numpy as np\n",
    "import matplotlib.pyplot as plt\n",
    "\n"
   ]
  },
  {
   "cell_type": "markdown",
   "metadata": {},
   "source": [
    "The forward Euler method is of course not the best ODE solver around, and we don't really need to implement our own solver since there are plenty of readymade solvers in various packages. The most widely used package may be the one from the `scipy` package, which also contains a lots of other useful tools for scientific computing:"
   ]
  },
  {
   "cell_type": "code",
   "execution_count": null,
   "metadata": {
    "collapsed": true
   },
   "outputs": [],
   "source": []
  },
  {
   "cell_type": "markdown",
   "metadata": {},
   "source": [
    "A newer and more advanced ODE integrator is available in the function `odeint`, also found in the `scipy.integrate` toolbox. It offers a selection of solver methods which may be more efficient for stiff ODEs in particular. Unfortunately, there are some annoying differences in the user interface compared with `odeint`: "
   ]
  },
  {
   "cell_type": "code",
   "execution_count": null,
   "metadata": {
    "collapsed": true
   },
   "outputs": [],
   "source": []
  },
  {
   "cell_type": "markdown",
   "metadata": {},
   "source": [
    "### Scipy also has simple tools for image processing\n",
    "An image is just an array of numerical values, which can be stored and manipulated as a numpy array. "
   ]
  },
  {
   "cell_type": "code",
   "execution_count": 2,
   "metadata": {},
   "outputs": [],
   "source": [
    "from scipy import misc\n",
    "from scipy.ndimage import gaussian_filter, laplace,sobel\n",
    "import imageio\n",
    "\n",
    "f = misc.face()\n"
   ]
  }
 ],
 "metadata": {
  "kernelspec": {
   "display_name": "Python 3",
   "language": "python",
   "name": "python3"
  },
  "language_info": {
   "codemirror_mode": {
    "name": "ipython",
    "version": 3
   },
   "file_extension": ".py",
   "mimetype": "text/x-python",
   "name": "python",
   "nbconvert_exporter": "python",
   "pygments_lexer": "ipython3",
   "version": "3.6.1"
  }
 },
 "nbformat": 4,
 "nbformat_minor": 1
}
