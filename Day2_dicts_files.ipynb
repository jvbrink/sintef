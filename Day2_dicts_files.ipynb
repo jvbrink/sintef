{
 "cells": [
  {
   "cell_type": "markdown",
   "metadata": {},
   "source": [
    "# Introduction to Python programming for scientific applications\n",
    "\n",
    "\n",
    "## Day 2\n",
    "* Part 1: More of the basics\n",
    " * A new data type: the *dictionary*\n",
    "\n",
    " * Reading from and writing to files\n",
    "\n",
    " * Interpret content in files via string manipulation\n",
    " \n",
    " * Creating our own modules\n",
    " \n",
    " \n",
    "* Part 2: Data processing with pandas\n",
    " * Pandas overview\n",
    " * Reading and processing csv data files"
   ]
  },
  {
   "cell_type": "markdown",
   "metadata": {},
   "source": [
    "## A dictionary is a generalization of a list\n",
    "\n",
    " Recall the basic features of lists: \n",
    "\n",
    "   * store a *sequence* of elements in a single object (`[1,3,-1]`)\n",
    "\n",
    "   * each element is a Python object\n",
    "\n",
    "   * the elements are indexed by integers 0, 1, ...\n",
    "\n",
    "The dictionary is a generalization of lists, where the indices can be numbers, text or other object. The dictionary in Python is hash, HashMap and associative array in other languages. Dictionaries are useful because the list index is sometimes unnatural for locating an element of a collection of objects. \n",
    "\n",
    "As an example, suppose we need to store the temperatures in Oslo, London and Paris. A solution based on lists may look like:"
   ]
  },
  {
   "cell_type": "code",
   "execution_count": 34,
   "metadata": {},
   "outputs": [
    {
     "name": "stdout",
     "output_type": "stream",
     "text": [
      "The temperature in Oslo is 13 degrees\n"
     ]
    }
   ],
   "source": [
    "temps = [13, 15.4, 17.5]\n",
    "cities = ['Oslo','London','Paris']\n",
    "print('The temperature in {} is {} degrees'.format(cities[0], temps[0]))"
   ]
  },
  {
   "cell_type": "markdown",
   "metadata": {},
   "source": [
    "We can look up a temperature by mapping a city and associated temperature to the same index, but it would be more natural to write `temps[Oslo]` directly. This is precisely what a dictionary allows, by providing a direct mapping from strings to objects:"
   ]
  },
  {
   "cell_type": "code",
   "execution_count": 35,
   "metadata": {},
   "outputs": [
    {
     "name": "stdout",
     "output_type": "stream",
     "text": [
      "The temperature in London is 15.4\n",
      "The temperature in Oslo is 13\n"
     ]
    }
   ],
   "source": [
    "# Initialize dictionary\n",
    "temps = {'Oslo': 13, 'London': 15.4, 'Paris': 17.5}\n",
    "\n",
    "# Applications\n",
    "print('The temperature in London is', temps['London'])\n",
    "print('The temperature in Oslo is',   temps['Oslo'])"
   ]
  },
  {
   "cell_type": "markdown",
   "metadata": {},
   "source": [
    "Important:\n",
    "\n",
    " * The string index, like `Oslo`, is called *key*, while `temps['Oslo']`\n",
    "   is the associated *value*\n",
    "\n",
    " * A dictionary is an *unordered* collection of key-value pairs\n",
    " \n",
    " * Any immutable Python object can be used as a dictionary key; for instance an integer, string, tuple (but not a list)\n",
    "\n",
    "\n",
    "\n",
    "## Initializing and manipulating dictionaries\n",
    "\n",
    "Two ways of initializing a collection of key-value pairs:"
   ]
  },
  {
   "cell_type": "code",
   "execution_count": 36,
   "metadata": {},
   "outputs": [
    {
     "name": "stdout",
     "output_type": "stream",
     "text": [
      "{'Oslo': 13, 'London': 15.4, 'Paris': 17.5}\n"
     ]
    }
   ],
   "source": [
    "temps = {'Oslo': 13, 'London': 15.4, 'Paris': 17.5}\n",
    "# or\n",
    "temps = dict(Oslo=13, London=15.4, Paris=17.5)\n",
    "print(temps)"
   ]
  },
  {
   "cell_type": "markdown",
   "metadata": {},
   "source": [
    "A dictionary has no `append()`-function. To add a new element, we simply introduce a new key and associated value:"
   ]
  },
  {
   "cell_type": "code",
   "execution_count": 37,
   "metadata": {},
   "outputs": [
    {
     "name": "stdout",
     "output_type": "stream",
     "text": [
      "{'Oslo': 13, 'London': 15.4, 'Paris': 17.5, 'Madrid': 26.0}\n"
     ]
    }
   ],
   "source": [
    "temps['Madrid'] = 26.0\n",
    "print(temps)"
   ]
  },
  {
   "cell_type": "markdown",
   "metadata": {},
   "source": [
    "Looping (iterating) over a dictionary means looping over the keys:"
   ]
  },
  {
   "cell_type": "raw",
   "metadata": {},
   "source": [
    "for key in dictionary:\n",
    "    value = dictionary[key]\n",
    "    print value"
   ]
  },
  {
   "cell_type": "markdown",
   "metadata": {},
   "source": [
    "Example:"
   ]
  },
  {
   "cell_type": "code",
   "execution_count": 38,
   "metadata": {},
   "outputs": [
    {
     "name": "stdout",
     "output_type": "stream",
     "text": [
      "The Oslo temperature is 13\n",
      "The London temperature is 15.4\n",
      "The Paris temperature is 17.5\n",
      "The Madrid temperature is 26.0\n"
     ]
    }
   ],
   "source": [
    "for city in temps:\n",
    "  print(f'The {city} temperature is {temps[city]}')"
   ]
  },
  {
   "cell_type": "markdown",
   "metadata": {},
   "source": [
    "Note: the sequence of keys is arbitrary! Use `sorted` if you need a\n",
    "particular sequence:"
   ]
  },
  {
   "cell_type": "code",
   "execution_count": 7,
   "metadata": {},
   "outputs": [
    {
     "name": "stdout",
     "output_type": "stream",
     "text": [
      "15.4\n",
      "26.0\n",
      "13\n",
      "17.5\n"
     ]
    }
   ],
   "source": [
    "for city in sorted(temps):   # alphabetic sort of keys\n",
    "    value = temps[city]\n",
    "    print(value)"
   ]
  },
  {
   "cell_type": "markdown",
   "metadata": {},
   "source": [
    "### We can test for particular keys, delete elements, etc\n",
    "\n",
    "Does the dict have a particular key?"
   ]
  },
  {
   "cell_type": "code",
   "execution_count": 39,
   "metadata": {},
   "outputs": [
    {
     "name": "stdout",
     "output_type": "stream",
     "text": [
      "No temperature data for Berlin\n"
     ]
    }
   ],
   "source": [
    "if 'Berlin' in temps:\n",
    "    print('Berlin:', temps['Berlin'])\n",
    "else:\n",
    "    print('No temperature data for Berlin')"
   ]
  },
  {
   "cell_type": "code",
   "execution_count": 8,
   "metadata": {},
   "outputs": [
    {
     "data": {
      "text/plain": [
       "True"
      ]
     },
     "execution_count": 8,
     "metadata": {},
     "output_type": "execute_result"
    }
   ],
   "source": [
    "'Oslo' in temps     # standard boolean expression"
   ]
  },
  {
   "cell_type": "markdown",
   "metadata": {},
   "source": [
    "Delete an element of a dict:"
   ]
  },
  {
   "cell_type": "code",
   "execution_count": 11,
   "metadata": {},
   "outputs": [
    {
     "data": {
      "text/plain": [
       "{'London': 15.4, 'Madrid': 26.0, 'Paris': 17.5}"
      ]
     },
     "execution_count": 11,
     "metadata": {},
     "output_type": "execute_result"
    }
   ],
   "source": [
    "del temps['Oslo']   # remove Oslo key w/value\n",
    "temps"
   ]
  },
  {
   "cell_type": "code",
   "execution_count": 12,
   "metadata": {},
   "outputs": [
    {
     "data": {
      "text/plain": [
       "3"
      ]
     },
     "execution_count": 12,
     "metadata": {},
     "output_type": "execute_result"
    }
   ],
   "source": [
    "len(temps)          # no of key-value pairs in dict."
   ]
  },
  {
   "cell_type": "markdown",
   "metadata": {},
   "source": [
    "### Example: Polynomials represented by dictionaries\n",
    "\n",
    "The information in the polynomial"
   ]
  },
  {
   "cell_type": "markdown",
   "metadata": {},
   "source": [
    "$$\n",
    "p(x)=-1 + x^2 + 3x^7\n",
    "$$"
   ]
  },
  {
   "cell_type": "markdown",
   "metadata": {},
   "source": [
    "can be represented by a dict with power as key (`int`) and\n",
    "coefficient as value (`float`):"
   ]
  },
  {
   "cell_type": "code",
   "execution_count": 21,
   "metadata": {
    "collapsed": true
   },
   "outputs": [],
   "source": [
    "p = {0: -1, 2: 1, 7: 3.5}"
   ]
  },
  {
   "cell_type": "markdown",
   "metadata": {},
   "source": [
    "Evaluate such a polynomial $\\sum_{i\\in I} c_ix^i$ for some $x$:"
   ]
  },
  {
   "cell_type": "code",
   "execution_count": 22,
   "metadata": {
    "collapsed": true
   },
   "outputs": [],
   "source": [
    "def eval_poly_dict(poly, x):\n",
    "    sum = 0.0\n",
    "    for power in poly:\n",
    "        sum += poly[power]*x**power\n",
    "    return sum"
   ]
  },
  {
   "cell_type": "markdown",
   "metadata": {},
   "source": [
    "Short pro version:"
   ]
  },
  {
   "cell_type": "code",
   "execution_count": 23,
   "metadata": {
    "collapsed": true
   },
   "outputs": [],
   "source": [
    "def eval_poly_dict2(poly, x):\n",
    "    # Python's sum can add elements of an iterator\n",
    "    return sum(poly[power]*x**power for power in poly)"
   ]
  },
  {
   "cell_type": "markdown",
   "metadata": {},
   "source": [
    "### Quick exercise: adding polynomials\n",
    "\n",
    "Write a function `poly_add(p1, p2)` which takes as input two dictionaries representing polynomials, and returns the dictionary representing the sum of the two polynomials. "
   ]
  },
  {
   "cell_type": "code",
   "execution_count": null,
   "metadata": {
    "collapsed": true
   },
   "outputs": [],
   "source": [
    "def poly_add(p1,p2):\n",
    "    pass"
   ]
  },
  {
   "cell_type": "markdown",
   "metadata": {},
   "source": [
    "## Reading data from files\n",
    "\n",
    "Python has multiple ways to read data from a regular textfile:"
   ]
  },
  {
   "cell_type": "code",
   "execution_count": 40,
   "metadata": {},
   "outputs": [],
   "source": [
    "infile  = open('filename.txt', 'r') # open file for reading\n",
    "\n",
    "line    = infile.readline()   # read the next line\n",
    "filestr = infile.read()       # read rest of file into string\n",
    "lines   = infile.readlines()  # read rest of file into list\n",
    "for line in infile:           # read rest of file line by line\n",
    "    pass\n",
    "infile.close()                # recall to close!"
   ]
  },
  {
   "cell_type": "markdown",
   "metadata": {},
   "source": [
    "All the variables read from the file above are Python `string` objects. Specifically, `line` is a string, `filestr` is a (potentially long) string, and `lines` is a list of\n",
    "strings. To process the contents of a text file, we need tools to interpret and manipulate strings. The Python language has a large selection of such tools, which makes string and file processing very convenient. \n",
    "\n",
    "A string is simply a sequence of characters, which can be indexed, traversed in a for-loop etc., much like we have done with lists:"
   ]
  },
  {
   "cell_type": "code",
   "execution_count": 41,
   "metadata": {},
   "outputs": [
    {
     "name": "stdout",
     "output_type": "stream",
     "text": [
      "A l l   w o r k   a n d   n o   p l a y   m a k e s   J a c k   a   d u l l   b o y . A l l   w o r k   a n d   n o   p l a y   m a k e s   J a c k   a   d u l l   b o y . "
     ]
    }
   ],
   "source": [
    "s1 = 'All work and no play makes Jack a dull boy.'\n",
    "for c in s1:\n",
    "    print(c,end=' ')\n",
    "    \n",
    "for i in range(len(s1)):\n",
    "    print(s1[i],end=' ')"
   ]
  },
  {
   "cell_type": "markdown",
   "metadata": {},
   "source": [
    "But unlike lists, strings are immutable objects, so an operation like `s1[0] = a` is not allowed. \n",
    "\n",
    "For reading and processing strings, Python has a number of useful tools:"
   ]
  },
  {
   "cell_type": "code",
   "execution_count": 42,
   "metadata": {},
   "outputs": [
    {
     "name": "stdout",
     "output_type": "stream",
     "text": [
      "['All', 'work', 'and', 'no', 'play', 'makes', 'Jack', 'a', 'dull', 'boy.']\n",
      "['All wor', ' and no play ma', 'es Jac', ' a dull boy.']\n",
      "All_work_and_no_play_makes_Jack_a_dull_boy.\n",
      "16\n",
      "True\n",
      "All work\n"
     ]
    }
   ],
   "source": [
    "#split string into words:\n",
    "words = s1.split()\n",
    "print(words)\n",
    "\n",
    "#split with user-defined delimiter:\n",
    "print(s1.split('k'))\n",
    "\n",
    "#join a list of strings to one:\n",
    "print('_'.join(words))\n",
    "\n",
    "#find a particular substring:\n",
    "print(s1.find('play'))\n",
    "\n",
    "#is a substring contained in a string:\n",
    "print('dull' in s1)\n",
    "\n",
    "#extract a substring by slicing:\n",
    "print(s1[:8])"
   ]
  },
  {
   "cell_type": "code",
   "execution_count": 43,
   "metadata": {},
   "outputs": [
    {
     "data": {
      "text/plain": [
       "2.3"
      ]
     },
     "execution_count": 43,
     "metadata": {},
     "output_type": "execute_result"
    }
   ],
   "source": [
    "#strip away leading and trailing whitespace:\n",
    "s = '   text with leading/trailing space   '\n",
    "s.strip()\n",
    "#convert a string to a number:\n",
    "n = '2.3'\n",
    "float(n)"
   ]
  },
  {
   "cell_type": "markdown",
   "metadata": {},
   "source": [
    "## Example: Read file data into a dictionary\n",
    "\n",
    "Suppose we have data in a text file with the following format:"
   ]
  },
  {
   "cell_type": "raw",
   "metadata": {},
   "source": [
    "City           Temperature\n",
    "Oslo:          21.8\n",
    "London:        18.1\n",
    "Berlin:        19\n",
    "Paris:         23\n",
    "Rome:          26\n",
    "Helsinki:      17.8"
   ]
  },
  {
   "cell_type": "markdown",
   "metadata": {},
   "source": [
    "We want to store the data in a dictionary, with the city names as the keys and temperatures as values.\n",
    "\n",
    "**Program:**"
   ]
  },
  {
   "cell_type": "code",
   "execution_count": 45,
   "metadata": {},
   "outputs": [
    {
     "name": "stdout",
     "output_type": "stream",
     "text": [
      "{'Oslo': 21.8, 'London': 18.1, 'Berlin': 19.0, 'Paris': 23.0, 'Rome': 26.0, 'Helsinki': 17.8}\n"
     ]
    }
   ],
   "source": [
    "infile = open('deg2.txt', 'r')\n",
    "temps = {}                  # start with empty dict\n",
    "infile.readline()           #skip the first line\n",
    "for line in infile:\n",
    "    city, temp = line.split()\n",
    "    city = city[:-1]        # remove last char (:)\n",
    "    temps[city]  = float(temp)\n",
    "    \n",
    "print(temps)"
   ]
  },
  {
   "cell_type": "markdown",
   "metadata": {},
   "source": [
    "### Exercise 1: Read tabular data into a nested dictionary\n",
    "\n",
    "**Data file `stars.txt`:**"
   ]
  },
  {
   "cell_type": "raw",
   "metadata": {
    "collapsed": true
   },
   "source": [
    "Name                distance brightness  luminosity\n",
    "Alpha Centauri A    4.3      0.26        1.56\n",
    "Alpha Centauri B    4.3      0.077       0.45\n",
    "Alpha Centauri C    4.2      0.00001     0.00006\n",
    "Sirius A            8.6      1.00        23.6\n"
   ]
  },
  {
   "cell_type": "markdown",
   "metadata": {},
   "source": [
    "We want to read the data from this file and store in a nested dictionary. In the main (outer) dictionary the key shall be the name of the star, and the corresponding value shall be a dictionary with keys `distance`, `brightness`, and `luminosity`, and the corresponding values as values. "
   ]
  },
  {
   "cell_type": "code",
   "execution_count": null,
   "metadata": {
    "collapsed": true
   },
   "outputs": [],
   "source": [
    "infile = open('stars.txt','r')\n",
    "\n",
    "#your code here"
   ]
  },
  {
   "cell_type": "markdown",
   "metadata": {},
   "source": [
    "## Exercise 2: Read and plot climate data\n",
    "Historical climate data is available from various meteorological services. We have downloaded data from the Oxford station of the UK metoffice. The data is in a text file with the following format:"
   ]
  },
  {
   "cell_type": "raw",
   "metadata": {},
   "source": [
    "Oxford\n",
    "Location: 4509E 2072N, 63 metres amsl\n",
    "Estimated data is marked with a * after the value.\n",
    "Missing data (more than 2 days missing in month) is marked by  ---.\n",
    "Sunshine data taken from an automatic ...\n",
    "   yyyy  mm   tmax    tmin      af    rain     sun\n",
    "              degC    degC    days      mm   hours\n",
    "   1853   1    8.4     2.7       4    62.8     ---\n",
    "   1853   2    3.2    -1.8      19    29.3     ---\n",
    "   1853   3    7.7    -0.6      20    25.9     ---\n",
    "   1853   4   12.6     4.5       0    60.1     ---\n",
    "   1853   5   16.8     6.1       0    59.5     ---\n",
    "\n",
    "...\n"
   ]
  },
  {
   "cell_type": "markdown",
   "metadata": {},
   "source": [
    "Read the file and plot the maximum temperature as a function of the year. A dictionary can be used for this exercise, but for the purpose of plotting it may be just as easy to store the column data as separate lists. \n",
    "\n",
    "**Algorithm:**\n",
    "\n",
    " 1. Skip the first 7 (for us uninteresting) lines\n",
    "\n",
    " 2. Read the column data and store column 1 and 3 in lists\n",
    "\n",
    " 3. Plot the data"
   ]
  },
  {
   "cell_type": "code",
   "execution_count": 52,
   "metadata": {},
   "outputs": [
    {
     "name": "stdout",
     "output_type": "stream",
     "text": [
      "   1853   1    8.4     2.7       4    62.8     ---\n",
      "\n"
     ]
    }
   ],
   "source": [
    "\"\"\"\n",
    "Data file from:\n",
    "http://www.metoffice.gov.uk/pub/data/weather/uk/climate/stationdata\n",
    "\"\"\"\n",
    "\n",
    "filename = 'oxford.txt'\n",
    "infile = open(filename,'r')\n",
    "\n",
    "#skip a few lines:\n",
    "for i in range(7):\n",
    "    infile.readline()\n",
    "    \n",
    "\n",
    "\"\"\"\n",
    "Replace the line below with a for-loop to read the rest of the file line by line, \n",
    "and store the variables of interest as below with code to \n",
    "\"\"\"\n",
    "print(infile.readline())"
   ]
  },
  {
   "cell_type": "code",
   "execution_count": 91,
   "metadata": {
    "collapsed": true
   },
   "outputs": [],
   "source": [
    "local_file = 'Oxford.txt'\n",
    "infile = open(local_file, 'r')\n",
    "data = {}\n",
    "data['place'] = infile.readline().strip()\n",
    "data['location'] = infile.readline().strip()\n",
    "# Skip the next 5 lines\n",
    "for i in range(5):\n",
    "    infile.readline()"
   ]
  },
  {
   "cell_type": "markdown",
   "metadata": {},
   "source": [
    "        Date,Open,High,Low,Close,Volume,Adj Close\n",
    "        2014-02-03,502.61,551.19,499.30,545.99,12244400,545.99\n",
    "        2014-01-02,555.68,560.20,493.55,500.60,15698500,497.62\n",
    "        2013-12-02,558.00,575.14,538.80,561.02,12382100,557.68\n",
    "        2013-11-01,524.02,558.33,512.38,556.07,9898700,552.76\n",
    "        2013-10-01,478.45,539.25,478.28,522.70,12598400,516.57\n",
    "        ...\n",
    "        1984-10-01,25.00,27.37,22.50,24.87,5654600,2.73\n",
    "        1984-09-07,26.50,29.00,24.62,25.12,5328800,2.76\n"
   ]
  },
  {
   "cell_type": "markdown",
   "metadata": {},
   "source": [
    "## Reading the climate data - program, part 2\n",
    "\n",
    "**Program, part 2:**"
   ]
  },
  {
   "cell_type": "code",
   "execution_count": 92,
   "metadata": {
    "collapsed": true
   },
   "outputs": [],
   "source": [
    "data['data'] ={}\n",
    "for line in infile:\n",
    "    columns = line.split()\n",
    "\n",
    "    year = int(columns[0])\n",
    "    month = int(columns[1])\n",
    "\n",
    "    if columns[-1] == 'Provisional':\n",
    "        del columns[-1]\n",
    "    for i in range(2, len(columns)):\n",
    "        if columns[i] == '---':\n",
    "            columns[i] = None\n",
    "        elif columns[i][-1] == '*' or columns[i][-1] == '#':\n",
    "            # Strip off trailing character\n",
    "            columns[i] = float(columns[i][:-1])\n",
    "        else:\n",
    "            columns[i] = float(columns[i])"
   ]
  },
  {
   "cell_type": "markdown",
   "metadata": {},
   "source": [
    "## Reading the climate data - program, part 3\n",
    "\n",
    "**Program, part 3.**"
   ]
  },
  {
   "cell_type": "code",
   "execution_count": 93,
   "metadata": {
    "collapsed": true
   },
   "outputs": [],
   "source": [
    "for line in infile:\n",
    "    ...\n",
    "    tmax, tmin, air_frost, rain, sun = columns[2:]\n",
    "\n",
    "    if not year in data['data']:\n",
    "        data['data'][year] = {}\n",
    "    data['data'][year][month] = {'tmax': tmax,\n",
    "                                 'tmin': tmin,\n",
    "                                 'air frost': air_frost,\n",
    "                                 'sun': sun}"
   ]
  },
  {
   "cell_type": "markdown",
   "metadata": {},
   "source": [
    "## Summary of dictionary functionality\n",
    "\n",
    "<table border=\"1\">\n",
    "<thead>\n",
    "<tr><th align=\"center\">            Construction            </th> <th align=\"center\">                 Meaning                  </th> </tr>\n",
    "</thead>\n",
    "<tbody>\n",
    "<tr><td align=\"left\">   <code>a = {}</code>                                </td> <td align=\"left\">   initialize an empty dictionary                </td> </tr>\n",
    "<tr><td align=\"left\">   <code>a = {'point': [0,0.1], 'value': 7}</code>    </td> <td align=\"left\">   initialize a dictionary                       </td> </tr>\n",
    "<tr><td align=\"left\">   <code>a = dict(point=[2,7], value=3)</code>        </td> <td align=\"left\">   initialize a dictionary w/string keys         </td> </tr>\n",
    "<tr><td align=\"left\">   <code>a.update(b)</code>                           </td> <td align=\"left\">   add/update key-value pairs from <code>b</code> in <code>a</code>    </td> </tr>\n",
    "<tr><td align=\"left\">   <code>a.update(key1=value1, key2=value2)</code>    </td> <td align=\"left\">   add/update key-value pairs in <code>a</code>             </td> </tr>\n",
    "<tr><td align=\"left\">   <code>a['hide'] = True</code>                      </td> <td align=\"left\">   add new key-value pair to <code>a</code>                 </td> </tr>\n",
    "<tr><td align=\"left\">   <code>a['point']</code>                            </td> <td align=\"left\">   get value corresponding to key <code>point</code>        </td> </tr>\n",
    "<tr><td align=\"left\">   <code>for key in a:</code>                         </td> <td align=\"left\">   loop over keys in unknown order               </td> </tr>\n",
    "<tr><td align=\"left\">   <code>for key in sorted(a):</code>                 </td> <td align=\"left\">   loop over keys in alphabetic order            </td> </tr>\n",
    "<tr><td align=\"left\">   <code>'value' in a</code>                          </td> <td align=\"left\">   <code>True</code> if string <code>value</code> is a key in <code>a</code>      </td> </tr>\n",
    "<tr><td align=\"left\">   <code>del a['point']</code>                        </td> <td align=\"left\">   delete a key-value pair from <code>a</code>              </td> </tr>\n",
    "<tr><td align=\"left\">   <code>list(a.keys())</code>                        </td> <td align=\"left\">   list of keys                                  </td> </tr>\n",
    "<tr><td align=\"left\">   <code>list(a.values())</code>                      </td> <td align=\"left\">   list of values                                </td> </tr>\n",
    "<tr><td align=\"left\">   <code>len(a)</code>                                </td> <td align=\"left\">   number of key-value pairs in <code>a</code>              </td> </tr>\n",
    "<tr><td align=\"left\">   <code>isinstance(a, dict)</code>                   </td> <td align=\"left\">   is <code>True</code> if <code>a</code> is a dictionary              </td> </tr>\n",
    "</tbody>\n",
    "</table>\n",
    "\n",
    "## Summary of some string operations"
   ]
  },
  {
   "cell_type": "code",
   "execution_count": 94,
   "metadata": {
    "collapsed": true
   },
   "outputs": [],
   "source": [
    "s = 'Berlin: 18.4 C at 4 pm'\n",
    "s[8:17]          # extract substring\n",
    "s.find(':')      # index where first ':' is found\n",
    "s.split(':')     # split into substrings\n",
    "s.split()        # split wrt whitespace\n",
    "'Berlin' in s    # test if substring is in s\n",
    "s.replace('18.4', '20')\n",
    "s.lower()        # lower case letters only\n",
    "s.upper()        # upper case letters only\n",
    "s.split()[4].isdigit()\n",
    "s.strip()        # remove leading/trailing blanks\n",
    "', '.join(list_of_words)"
   ]
  }
 ],
 "metadata": {
  "kernelspec": {
   "display_name": "Python 3",
   "language": "python",
   "name": "python3"
  },
  "language_info": {
   "codemirror_mode": {
    "name": "ipython",
    "version": 3
   },
   "file_extension": ".py",
   "mimetype": "text/x-python",
   "name": "python",
   "nbconvert_exporter": "python",
   "pygments_lexer": "ipython3",
   "version": "3.6.1"
  }
 },
 "nbformat": 4,
 "nbformat_minor": 1
}
