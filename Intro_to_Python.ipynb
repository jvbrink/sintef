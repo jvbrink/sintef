{
 "cells": [
  {
   "cell_type": "markdown",
   "metadata": {},
   "source": [
    "# Introduction to Python Programming for Scientific Applications\n",
    "## Day 1: The Basics\n",
    "\n",
    "This is the course material for the first day of an introduction to Python programming for Scientific Applications. This material is written in a format called a *Jupyter Notebook*, which we will explain shortly.\n",
    "\n",
    "The goal of today is to cover the basics of programming Python. The goal is to familiarize you with Python's syntax and capabilities. We do not assume you have programming knowledge beforehand, but if you do, for example from Matlab or similar languages, than consider this day a good oppertunity to refresh your knowledge, while learning the syntax of Python.\n",
    "\n",
    "The main topics of today are\n",
    "* variables and types\n",
    "* importing and using packages\n",
    "* while-loops and for-loops\n",
    "* defining functions\n",
    "* if-tests\n",
    "* plotting\n",
    "\n",
    "We have limited time in this course, and so our goal is to leave you with an overview of different topics in Python. To properly learn and master the language and its capabilities, practice is important, we will therefore give you time to work with problems hands-on. We will also reccomend resources you can use to learn more on your own. If there are specific topics you want to learn more about, or cover more in detail, please do not hesitate to let us know.\n",
    "\n",
    "Parts of this material is based on an introduction to Python written Hans Petter Langtangen and Leif Rune Hellevik, which you can find on [github](https://github.com/hplgit/bumpy). \n"
   ]
  },
  {
   "cell_type": "markdown",
   "metadata": {},
   "source": [
    "## Installing Python\n",
    "\n",
    "Before we can start scripting with Python, we need to install it if you have not already done so. Python is an open source project, and different implementations and versions exist. In addition, when we want to use it for scientific programming, there are plenty of additional packages we want to install as well. Collectively, we refer to a given installation as a *Python Environment*.\n",
    "\n",
    "Setting up and configuring environments can be a bit tricky for beginners, so we recommend installing a specific distribution meant for scientific programming, so things are properly configured from the start. We recommend using the *Anaconda* distribution. Downloading Anaconda will give you an up-to-date Python interpreter, most scientific packages you will need, a package manager to download any other packages you might want to download and other important tools such as *Jupyter*. You can download the Anaconda installer from\n",
    "* [https://www.anaconda.com/download/](https://www.anaconda.com/download/)\n",
    "\n",
    "Be sure to pick the version specific to your operating system (Linux/Windows/Mac OS), and select Python 3.7. The only reason to pick the older version, Python 2.7, is because one is working on old code bases."
   ]
  },
  {
   "cell_type": "markdown",
   "metadata": {},
   "source": [
    "#### Picking an Editor\n",
    "\n",
    "When you download Anaconda, you get a fresh Python 3.7 installation, with most packages you will needed included. In addition, you get some additional tools, such as an IPython interactive shell, an editor called Spyder, and a tool called *Jupyter*. \n",
    "\n",
    "To write and run your Python code, you will need to write it in some text editor. Here you can choose to use the editor included with Anaconda, [*Spyder*](https://www.spyder-ide.org/). Spyder is tehcnically an IDE (interactive developer environment), meaning it has a lot of added functionality in addition to being just a simple editor.\n",
    "\n",
    "<img src=\"fig/spyder_editor.png\" width=600>\n",
    "<center><b>Figure:</b> A Screengrab of the Spyder editor that comes with Anaconda. Spyder is an IDE, meaning it has tons of extra functionality. Some people love this, and find it easy to work with, others prefer to use something more minimalistic.</center>\n",
    "\n",
    "If you are already used to using a given editor, or want a simpler or different editor than Spyder, feel free to use something else. Popular choices for Python scripting are [Sublime Text](https://www.sublimetext.com/) and [Atom](https://atom.io/). If you want an IDE, but don't like Spyder, another popular choice is [PyCharm](https://www.jetbrains.com/pycharm/).\n",
    "\n",
    "Another alternative altogether is to use *Jupyter Notebooks*, a tool that allows for combining traditional text with code that is executable. Jupyter is an alternative to a traditional editor, where we get more interactive tools. Jupyter has become a popular tool for working with Python scripting, especially for data science, where data can be explored more interactively while working with it.\n",
    "\n",
    "In this course, we present the material in Jupyter notebooks. You can either work in notebooks yourself, or use Spyder or another editor of your own preference. If you are unsure of what to pick, we recommend you stick with Jupyter for now."
   ]
  },
  {
   "cell_type": "markdown",
   "metadata": {},
   "source": [
    "### A Quick Introduction to Jupyter Notebooks\n",
    "\n",
    "In Jupyter, files are known as *notebooks*, and are saved on your computer as `.ipynb` files. These are not traditional scripts or programs, but rather a combination of rich text, math, figures and code all contained in the same file. When you run Jupyter on your computer, it opens your default web browser, and uses this browser to interact with your notebook. When you start a new session, you will first enter the dashboard, where you can navigate to an existing notebook, or create a brand new one.\n",
    "\n",
    "<img src=\"fig/jupyter_dashboard.png\" width=500>\n",
    "<center>The Jupyter dashboard, where you can select an existing notebook, or create a brand new one.</center>\n",
    "\n",
    "In notebooks, everything consists of cells, which are either markdown (text, math, rendered html, etc) or code. In the markdown cells you can render mathematics with LaTeX syntax, and you can include tables, figures and so on. In the code cells you can write code, and also execute the code and see the output in the notebook.\n",
    "\n",
    "When navigating through a notebook, you will always be in one of two modes. Either you are actively making edits to existing cells, this is known as *edit mode*. When you are in edit mode, the cell you are currently editing is marked in a green box, and you have a blinking cursor inside the cell.\n",
    "\n",
    "<img src=\"fig/edit_mode.png\" width=600>\n",
    "<center>A cell in edit mode.</center>\n",
    "\n",
    "When we are not actively editing a cell, we are in *command mode*. We see we are in command mode because the active cell is marked in a blue box, not a green one, and there is no cursor. When in command mode, pressing the keyboard will invoke commands through keyboard shortcuts, such as generating new cells.\n",
    "\n",
    "<img src=\"fig/command_mode.png\" width=600>\n",
    "<center>A cell in command mode.</center>\n",
    "\n",
    "When in command mode, you can enter edit mode on a given cell by double clicking it, or by pressing enter. When in edit mode, you can exit by clicking outside the cell with your cursor, or by pressing escape."
   ]
  },
  {
   "cell_type": "markdown",
   "metadata": {},
   "source": [
    "#### Example: Creating and running a code cell\n",
    "\n",
    "Let us generate a code cell, write some code, and then run it. First we need to generate a new cell. Here you can either press the `+` button in the toolbar on the top, or simply use the keyboard shortcut `b`. This will generate a new cell. We see that the cell is a code cell, because it has the stylized `In []` to its left."
   ]
  },
  {
   "cell_type": "code",
   "execution_count": null,
   "metadata": {},
   "outputs": [],
   "source": []
  },
  {
   "cell_type": "markdown",
   "metadata": {},
   "source": [
    "You can now click the empty cell to enter edit mode, and start writing some Python code. Now, we haven't started looking at Python code yet, so let us start with the simplest possible example, a `print` command:"
   ]
  },
  {
   "cell_type": "code",
   "execution_count": null,
   "metadata": {},
   "outputs": [],
   "source": [
    "print(\"Hello, World!\")"
   ]
  },
  {
   "cell_type": "markdown",
   "metadata": {},
   "source": [
    "We have now entered some code into our cell, but if we simply exit edit-mode, the code will not run automatically. To run code inside the notebook, we must *execute* a given code cell. You can do this either by clicking the `Run` command in the toolbar at the top, or use the more efficient keyboard shortcuts `Ctrl+Enter` or `Shift+Enter`.\n",
    "\n",
    "When you execute a cell like this, all the code inside the cell is executed and the output is printed immediately below the cell. In addition, the `In []:` will update to note which execution this was in the notebook, as this is the first cell we execute, it will become `In [1]:`."
   ]
  },
  {
   "cell_type": "code",
   "execution_count": 1,
   "metadata": {},
   "outputs": [
    {
     "name": "stdout",
     "output_type": "stream",
     "text": [
      "Hello, World!\n"
     ]
    }
   ],
   "source": [
    "print(\"Hello, World!\")"
   ]
  },
  {
   "cell_type": "markdown",
   "metadata": {},
   "source": [
    "One element of notebooks that can be a bit confusing to beginners and experts alike is that a notebook is one big interactive session. This means that variables and results are remembered after running a cell, and can be used further down in a notebook. However, when shutting down the notebook altogether and reloading it, the interactive data is forgotten, and the cells must be rerun from the start. A helpful tool here is using the `Kernel` > `Restart and Run All` command in the toolbar, which will run all cells in order, and load everything into memory."
   ]
  },
  {
   "cell_type": "markdown",
   "metadata": {},
   "source": [
    "#### A more thorough introduction to Jupyter Notebooks\n",
    "\n",
    "We will now start moving into the actual programming. If you want a more detailed introduction to Jupyter, you can take a look at [this guide to Jupyter basics](https://jupyter-notebook.readthedocs.io/en/stable/examples/Notebook/Notebook%20Basics.html) by the original creators."
   ]
  },
  {
   "cell_type": "markdown",
   "metadata": {},
   "source": [
    "## A Scientific \"Hello, World!\" Program\n",
    "\n",
    "Traditionally, the first program one creates when learning a new programming language, is the so-called \"Hello, World!\"-program, which should just write out a message to the consol. In Python, this task is very easy, we simply use the `print`-command as shown above:\n"
   ]
  },
  {
   "cell_type": "code",
   "execution_count": 2,
   "metadata": {},
   "outputs": [
    {
     "name": "stdout",
     "output_type": "stream",
     "text": [
      "Hello, World!\n"
     ]
    }
   ],
   "source": [
    "print(\"Hello, World!\")"
   ]
  },
  {
   "cell_type": "markdown",
   "metadata": {},
   "source": [
    "The command `print()` is a built-in function that writes the output to the screen or console. When calling functions, we need to put the input in parenthensis, and as we are printing out a text-based message, we need to put it in quotes to mark it as a *text string* (more on this later). In Python you can use either single-quotes, or double-quotes (``` or `\"`), as long as you put the same character on both ends."
   ]
  },
  {
   "cell_type": "markdown",
   "metadata": {},
   "source": [
    "The \"Hello, World!\" program isn't terribly exciting, so let us instead do a more scientific varient, where we compute some simple expression and write out the results. As a recurring example, we will use the mathematical formula\n",
    "$$s(t) = v_0 t + \\frac{1}{2}at^2,$$\n",
    "Where $s$ is the distance traveled by an object after time $t$ with a constant acceleration $a$, starting with an initial velocity $v_0$.\n",
    "\n",
    "As an example, let us compute the distance travelered for $t = 0.5$, $v_0=2$ and $a=0.2$."
   ]
  },
  {
   "cell_type": "code",
   "execution_count": 4,
   "metadata": {},
   "outputs": [],
   "source": [
    "t = 0.5\n",
    "v0 = 2\n",
    "a = 0.2\n",
    "s = v0*t + 0.5*a*t**2"
   ]
  },
  {
   "cell_type": "markdown",
   "metadata": {},
   "source": [
    "Here we first assign the three variables `t`, `v0` and `a`. Then we assign the variable `s` based on our other variables by doing some arithmetic. An assignment on the form of the final line is interpreted as follows:\n",
    "* Evaluate the right-hand side of the `=` symbol, this results in an *object*\n",
    "* The left hand side is a name for that object\n",
    "\n",
    "In this case, the result of the computation is a number, and `s` becomes a name for that number. But how do we check what `s` is? We use the `print`-statement, just like before."
   ]
  },
  {
   "cell_type": "code",
   "execution_count": 2,
   "metadata": {},
   "outputs": [
    {
     "name": "stdout",
     "output_type": "stream",
     "text": [
      "1.025\n"
     ]
    }
   ],
   "source": [
    "print(s)"
   ]
  },
  {
   "cell_type": "markdown",
   "metadata": {},
   "source": [
    "Note that `s` is now a name pointing at a number object with a value of 1.025. The variable `s` only remembers the result of the computation, it does not remember \"where it came from\" so to say. This means that if we for example reassign `t`, `s` will *not* change."
   ]
  },
  {
   "cell_type": "markdown",
   "metadata": {},
   "source": [
    "##### Your Turn\n",
    "\n",
    "Repeat this example, but with the values $t = 1.2$, $v_0 = 4$ and $a = -0.1$.\n"
   ]
  },
  {
   "cell_type": "code",
   "execution_count": null,
   "metadata": {},
   "outputs": [],
   "source": [
    "# Write your code here..."
   ]
  },
  {
   "cell_type": "markdown",
   "metadata": {},
   "source": [
    "Also verify that the result does not change if you change one of the arguments *after* performing the computation."
   ]
  },
  {
   "cell_type": "markdown",
   "metadata": {},
   "source": [
    "### Python as a calculator\n",
    "\n",
    "Our scientific \"Hello, World!\" example contained a simple computation, and using Python like a simple calculator like this can often be useful. Let's quickly go through all the basic mathematical operations and how they work in Python.\n",
    "\n",
    "The following basic arithmetic operations are built into Python, you can use them whenever:\n",
    "\n",
    "| Operation        | Math          | Python |\n",
    "| ---------------- | ------------- | ------ |\n",
    "| Addition         | $a+b$         | `a + b` |\n",
    "| Subtraction      | $a-b$         | `a - b`|\n",
    "| Multiplication   | $ab$          | `a*b`  |\n",
    "| Division         | $\\frac{a}{b}$ | `a/b`  |\n",
    "| Power            | $a^b$         | `a**b` |\n",
    "| Integer Division | $\\lfloor \\frac{a}{b} \\rfloor$ | `a//b`\n",
    "| Modulo           | $a \\mbox{ mod } b$ | `a % b` |\n",
    "| Absolute value   | $|a|$      | `abs(a)` |\n",
    "\n",
    "<center><b>Table:</b> Important built-in mathematical operations and their Python syntax.</center>\n",
    "\n",
    "A few things to note here are:\n",
    "* Extra whitespace around the operators or variables has no impact on the code, you can therefore add extra spaces however you prefer\n",
    "* Taking `a` to the power of `b` is written like `a**b`, not `a^b` like in for example Matlab.\n",
    "* Dividing `a/b`, even when both are integers, will produce decimals, unlike for example C/C++."
   ]
  },
  {
   "cell_type": "code",
   "execution_count": 6,
   "metadata": {},
   "outputs": [
    {
     "name": "stdout",
     "output_type": "stream",
     "text": [
      "0.4\n"
     ]
    }
   ],
   "source": [
    "print(2/5)"
   ]
  },
  {
   "cell_type": "markdown",
   "metadata": {},
   "source": [
    "#### More functions from the `math` package\n",
    "\n",
    "The built-in operations only cover the most fundamental arithmetic operations. If we want more complex operations, such as roots, exponentials or trigonometry, we need to *import* this functionality. The standard package `math` contains all common mathematical functions, and if we need something a bit rarerer, other packages exist that probably contain them, more on this later.\n",
    "\n",
    "To import a function from a given package, you can write it as follows:"
   ]
  },
  {
   "cell_type": "code",
   "execution_count": 7,
   "metadata": {},
   "outputs": [
    {
     "data": {
      "text/plain": [
       "9.0"
      ]
     },
     "execution_count": 7,
     "metadata": {},
     "output_type": "execute_result"
    }
   ],
   "source": [
    "from math import sqrt\n",
    "\n",
    "sqrt(81)"
   ]
  },
  {
   "cell_type": "markdown",
   "metadata": {},
   "source": [
    "Or you can instead import the whole package as follows:"
   ]
  },
  {
   "cell_type": "code",
   "execution_count": 8,
   "metadata": {},
   "outputs": [
    {
     "data": {
      "text/plain": [
       "9.0"
      ]
     },
     "execution_count": 8,
     "metadata": {},
     "output_type": "execute_result"
    }
   ],
   "source": [
    "import math\n",
    "\n",
    "math.sqrt(81)"
   ]
  },
  {
   "cell_type": "markdown",
   "metadata": {},
   "source": [
    "There is third option, which is to import everything from a given package. This can be done by writing\n",
    "```Python\n",
    "from math import *\n",
    "```\n",
    "This is known as a *wildcard* import, the `*` means we want to import everything contained in the `math` library.\n",
    "\n",
    "In general, such wildcards imports, where we import everything at once, is discouraged. This is because it becomes unclear what functions come from which packages, which can be a big problem for larger codes and programs. However, if you are coming from a matlab background, where you are used to having everything available, the package `pylab` tries to somewhat emulate the feeling of matlab, in which case you can do a wildcard import of the type\n",
    "```Python\n",
    "from pylab import *\n",
    "```\n",
    "\n"
   ]
  },
  {
   "cell_type": "markdown",
   "metadata": {},
   "source": [
    "Some of the functions contained in the `math`-package are\n",
    "\n",
    "| Function         | Math          | Python |\n",
    "| ---------------- | ------------- | ------ |\n",
    "| Square root      | $\\sqrt{x}$    | `sqrt(x)` |\n",
    "| Exponential function  | $e^x$         | `exp(x)` |\n",
    "| Natural logarithm  | $\\ln x$     | `log(x)`|\n",
    "| Base-10 logarithm | $\\log x$     | `log10(x)` | \n",
    "| Base-2 logarithm | $\\log_2 x$ | `log2(x)`|\n",
    "| General base logarithm | $\\log_b x$ | `log(x, b)` |\n",
    "| Sine | $\\sin x$ | `sin(x)` |\n",
    "| Inverse Sine | $\\arcsin x$ | `asin(x)` |\n",
    "| Hyperbolic Sine | $\\sinh x$ | `sinh(x)` |\n",
    "| Factorial | $n!$ | `factorial(n)` |\n",
    "\n",
    "<center><b>Table:</b> Common mathematical functions that can be imported from the <tt>math<tt> package.</center>\n",
    "\n",
    "A few things to note:\n",
    "* All functions in Python are always called with parenthesis on the argument, even if the mathematical notion doesn't always use this\n",
    "* The trigonometric functions are defined in *radians*\n",
    "* Cosine and tangent are named similarily to the Sine, but with `cos` and `tan` instead of `sin`.\n",
    "* This list is not comprehensive. For a full overview of the `math` package, look at the [official reference](https://docs.python.org/3/library/math.html).\n",
    "\n",
    "In addition to these functions, `math` also contains common constants, such as $\\pi$ and $e$"
   ]
  },
  {
   "cell_type": "code",
   "execution_count": 9,
   "metadata": {},
   "outputs": [
    {
     "name": "stdout",
     "output_type": "stream",
     "text": [
      "3.141592653589793\n",
      "2.718281828459045\n"
     ]
    }
   ],
   "source": [
    "from math import pi, e\n",
    "\n",
    "print(pi)\n",
    "print(e)"
   ]
  },
  {
   "cell_type": "markdown",
   "metadata": {},
   "source": [
    "##### Your Turn"
   ]
  },
  {
   "cell_type": "markdown",
   "metadata": {},
   "source": [
    "Using Python as a calculator, compute the following expressions: \n",
    "1. $\\frac{4\\pi}{3}$\n",
    "2. $12!$\n",
    "3. $e^4 \\cos(\\frac{3\\pi}{2})$\n"
   ]
  },
  {
   "cell_type": "code",
   "execution_count": null,
   "metadata": {},
   "outputs": [],
   "source": [
    "# Your code here..."
   ]
  },
  {
   "cell_type": "markdown",
   "metadata": {},
   "source": [
    "#### Scientific Notation\n",
    "\n",
    "One final note on using Python to perform computations is that Python supports scientific notation which can be helpful when defining very large or very small numbers. To do this, use the shorthand `e`, for example:"
   ]
  },
  {
   "cell_type": "code",
   "execution_count": 10,
   "metadata": {},
   "outputs": [
    {
     "name": "stdout",
     "output_type": "stream",
     "text": [
      "2400.0\n"
     ]
    }
   ],
   "source": [
    "print(2.4e3)"
   ]
  },
  {
   "cell_type": "code",
   "execution_count": 14,
   "metadata": {},
   "outputs": [
    {
     "name": "stdout",
     "output_type": "stream",
     "text": [
      "0.00033\n"
     ]
    }
   ],
   "source": [
    "print(3.3e-4)"
   ]
  },
  {
   "cell_type": "markdown",
   "metadata": {},
   "source": [
    "Where `2.4e3` means $2.4\\cdot 10^3$, and `3.3e-4` means $3.3\\cdot10^{-4}.$\n",
    "\n",
    "Note that the same notation is used in output as well."
   ]
  },
  {
   "cell_type": "code",
   "execution_count": 16,
   "metadata": {},
   "outputs": [
    {
     "name": "stdout",
     "output_type": "stream",
     "text": [
      "3.328e-06\n"
     ]
    }
   ],
   "source": [
    "print(6.4e2 * 5.2e-9)"
   ]
  },
  {
   "cell_type": "markdown",
   "metadata": {},
   "source": [
    "## Variables and Data Types\n",
    "\n",
    "Let us return to our recurring example. The computation\n",
    "$$s(t) = v_0 t + \\frac{1}{2}at^2.$$\n",
    "We performed a computation by defining four variables:"
   ]
  },
  {
   "cell_type": "code",
   "execution_count": 19,
   "metadata": {},
   "outputs": [],
   "source": [
    "t = 0.5\n",
    "v0 = 2\n",
    "a = 0.2\n",
    "s = v0*t + 0.5*a*t**2"
   ]
  },
  {
   "cell_type": "markdown",
   "metadata": {},
   "source": [
    "Here, we are defining the variables `t`, `v0`, `a` and `s`. Note that we do not have to declare the type of the variables as we make them, Python does this for us. This is different from some other programming languages like Java and C, where you always need to declare the types.\n",
    "\n",
    "Even though we do note declare the types, note that any variable has a given *data type*. You can check the type of a variable with the `type()`-function."
   ]
  },
  {
   "cell_type": "code",
   "execution_count": 18,
   "metadata": {},
   "outputs": [
    {
     "name": "stdout",
     "output_type": "stream",
     "text": [
      "<class 'float'>\n",
      "<class 'int'>\n",
      "<class 'float'>\n",
      "<class 'float'>\n"
     ]
    }
   ],
   "source": [
    "print(type(t))\n",
    "print(type(v0))\n",
    "print(type(a))\n",
    "print(type(s))"
   ]
  },
  {
   "cell_type": "markdown",
   "metadata": {},
   "source": [
    "We see that `v0` has become an `int`, meaning an integer variable, while the other three variables have become `float`s. A [`float`](https://en.wikipedia.org/wiki/Floating-point_arithmetic) is a decimal number, but because computers cannot accuretly represent arbitrary decimal numbers, we call them floating-point numbers because they have small inaccuracies. \n",
    "\n",
    "There are many other types of built-in data types in Python. Some common ones, that exist in almost any programming language are\n",
    "\n",
    "| Name | Python type | Example values |\n",
    "| ---- | ----------- | ----------- |\n",
    "| Boolean | `bool`   | `True`/`False` |\n",
    "| Integer | `int`    | `4`            |\n",
    "| Floating-point | `float` | `3.1415` |\n",
    "| Complex number | `complex` | `2.5 + 4j` | \n",
    "| Text String    | `str`  | `Hello, World!` |\n",
    "\n",
    "These are the most basic data types in Python, they each consist of one specific value. In addition, there are many built-in datatypes for storing *collections* of values (more on this later). Some of these are\n",
    "\n",
    "| Name | Python Type | Example | \n",
    "| ---- | ----------- | ------- |\n",
    "| Tuple | `tuple`    | `(0, 0, 1)`\n",
    "| Lists | `list`     | `[2, -3, 5, 8]` |\n",
    "| Dictionary | `dict` | `{a: -9.81, v0: 5.2}` |\n",
    "| Set    | `set` | `set([2, 3, 5, 8, 11])` |\n",
    "\n",
    "These built-in containers are useful for storing larger sets of data. They behave differently, so knowing what the different ones do is useful, but more on this later.\n",
    "\n",
    "There are plenty more data types that are built-in in Python, and through the use of packages there are plenty more. You can also define your own through object-oriented programming, but we won't cover this in this course."
   ]
  },
  {
   "cell_type": "markdown",
   "metadata": {},
   "source": [
    "## Print Formatting\n",
    "\n",
    "So far, we have seen how we can define variables, perform simple computations, and to look at the results through `print`. However, sometimes we want more control over how the output from `print` is formatted, we accomplish this through the process of print-formatting."
   ]
  },
  {
   "cell_type": "markdown",
   "metadata": {},
   "source": [
    "Let us look at an example. First of, we can print multiple variables in a row, if we so desire, by separating them with a comma"
   ]
  },
  {
   "cell_type": "code",
   "execution_count": 20,
   "metadata": {},
   "outputs": [
    {
     "name": "stdout",
     "output_type": "stream",
     "text": [
      "After 0.5 seconds, the object has traveled 1.025 meters\n"
     ]
    }
   ],
   "source": [
    "print(\"After\", t, \"seconds, the object has traveled\", s, \"meters\")"
   ]
  },
  {
   "cell_type": "markdown",
   "metadata": {},
   "source": [
    "This works decently, but it is perhaps more tidy to write a single string, and insert the variables, this can be done through formatted strings, also known as \"f-strings\":"
   ]
  },
  {
   "cell_type": "code",
   "execution_count": 21,
   "metadata": {},
   "outputs": [
    {
     "name": "stdout",
     "output_type": "stream",
     "text": [
      "After 0.5 seconds, the object has traveled 1.025 meters\n"
     ]
    }
   ],
   "source": [
    "print(f\"After {t} seconds, the object has traveled {s} meters\")"
   ]
  },
  {
   "cell_type": "markdown",
   "metadata": {},
   "source": [
    "Note that we write a `f` (or `F`) immediately before the opening quotes of the string. When this is done, we can insert variables directly into the string with curly braces."
   ]
  },
  {
   "cell_type": "markdown",
   "metadata": {},
   "source": [
    "When using f-strings, you can control more details on the printing of each individual variable by throwing on a format specification after the variable:"
   ]
  },
  {
   "cell_type": "code",
   "execution_count": 26,
   "metadata": {},
   "outputs": [
    {
     "name": "stdout",
     "output_type": "stream",
     "text": [
      "After 0.50 seconds, the object has traveled 1.0 meters\n"
     ]
    }
   ],
   "source": [
    "print(f\"After {t:.2f} seconds, the object has traveled {s:.1f} meters\")"
   ]
  },
  {
   "cell_type": "markdown",
   "metadata": {},
   "source": [
    "Where we specify that we want the time written out with two decimals by writing (`t:.2f`). Here the `f` means that we are printing a float variable, and the `.2` means two decimals. The string variable is printed with a single decimal."
   ]
  },
  {
   "cell_type": "markdown",
   "metadata": {},
   "source": [
    "When printing with a given number of decimals, Python will round our number for us."
   ]
  },
  {
   "cell_type": "code",
   "execution_count": 30,
   "metadata": {},
   "outputs": [
    {
     "name": "stdout",
     "output_type": "stream",
     "text": [
      "2.144\n",
      "2.14\n"
     ]
    }
   ],
   "source": [
    "x = 2.1436\n",
    "print(f\"{x:.3f}\")\n",
    "print(f\"{x:.2f}\")"
   ]
  },
  {
   "cell_type": "markdown",
   "metadata": {},
   "source": [
    "Note that when rounding to three decimals, we round up, while for two decimals, we round down.\n",
    "\n",
    "However, Python uses a convention known as [*bankers' rounding*](https://en.wikipedia.org/wiki/Rounding), in which a .5 is rounded down if the preceeding number is even, and up if it is odd. This is becoming the standard way to round numbers for large data sets, as the \"normal\" convention of rounding .5 up will give a slight bias in the long run."
   ]
  },
  {
   "cell_type": "markdown",
   "metadata": {},
   "source": [
    "When using print-formatting, you can also write numbers out in different formats, such as scientific notation for example:"
   ]
  },
  {
   "cell_type": "code",
   "execution_count": 32,
   "metadata": {},
   "outputs": [
    {
     "name": "stdout",
     "output_type": "stream",
     "text": [
      "4.2e+04\n"
     ]
    }
   ],
   "source": [
    "n = 41828\n",
    "print(f\"{n:.1e}\")"
   ]
  },
  {
   "cell_type": "markdown",
   "metadata": {},
   "source": [
    "The format specificer `.1e` says that we want to write the number out in scientific notation with a single decimal\n",
    "\n",
    "The specifier `g` is often convenient, as it will print the number out as a float for numbers close to $1$, but for very small numbers, or very large numbers, it will instead use scientific notation.\n",
    "\n",
    "Another useful specifier is `%`, which converts a ratio to a percentage for us. Say we have performed 913 trials, with 642 succsessful trials, then we could for example write:"
   ]
  },
  {
   "cell_type": "code",
   "execution_count": 36,
   "metadata": {},
   "outputs": [
    {
     "name": "stdout",
     "output_type": "stream",
     "text": [
      "Succsess rate: 70.3%\n"
     ]
    }
   ],
   "source": [
    "succsess = 642\n",
    "total = 913\n",
    "print(f\"Succsess rate: {succsess/total:.1%}\")"
   ]
  },
  {
   "cell_type": "markdown",
   "metadata": {},
   "source": [
    "#### More on Print Formatting\n",
    "\n",
    "For more information on print formatting, you can take a look at this more [comprehensive introduction](https://docs.python.org/3/tutorial/inputoutput.html)."
   ]
  },
  {
   "cell_type": "markdown",
   "metadata": {},
   "source": [
    "##### Your turn\n",
    "\n",
    "The volume of a sphere is given by\n",
    "$$V = \\frac{4\\pi R^3}{3}.$$\n",
    "A normal football (regulation size 5 to be specific) has a radius of 11 cm. \n",
    "\n",
    "Compute the volume of a football and print it out with a single decimal."
   ]
  },
  {
   "cell_type": "code",
   "execution_count": null,
   "metadata": {
    "collapsed": true
   },
   "outputs": [],
   "source": [
    "# Fill in your code here"
   ]
  },
  {
   "cell_type": "markdown",
   "metadata": {},
   "source": [
    "If you did not convert units, your answer will be in cm$^3$, but this is not a very intuitive quantity. Convert your answer so that it instead is printed out in number of liters, still with a single decimal. Recall that 1 dm$^3$ is one liter."
   ]
  },
  {
   "cell_type": "code",
   "execution_count": null,
   "metadata": {},
   "outputs": [],
   "source": [
    "# Fill in your code here"
   ]
  },
  {
   "cell_type": "markdown",
   "metadata": {},
   "source": [
    "## While Loops\n",
    "\n",
    "We now turn to the topic of loops. Loops are one of the most fundamental concepts of programming, and are very useful tools to repeat an operation many times. In Python, we have to kinds of loops, *while*-loops and *for*-loops. We start by looking at the *while*-loops.\n",
    "\n",
    "A while-loop repeats itself as long as some condition is fulfilled. For each time the loop is run, the condition is checked again. If the condition is still true, the loop is run again. If the condition is no longer true, the loop is finished.\n",
    "\n",
    "The syntax of a while loop in Python is as follows:\n",
    "```Python\n",
    "while <condition>:\n",
    "    <code block to be repeated>\n",
    "    <code block to be repeated>\n",
    "    <code block to be repeated>\n",
    "```\n",
    "There are a number of things to note with this syntax:\n",
    "* We define the start of a loop with the keyword `while`\n",
    "* We write in a given condition, and end the line with a colon (`:`)\n",
    "* A set of *indented statements* follow the definition of the loop, these are the lines that repeat each time the loop is run again\n",
    "\n",
    "The term indentation means the code lines are moved slightly in from the left hand side. This is acomplished by using the `Tab` key on the keyboard (or `Shift+Tab` to remove indentation). Most editors will however automatically add the indentation.\n",
    "\n",
    "The lines with indentation belong to the while-loop and we say ther are \"inside\" the loop. Any statements without indentation do not belong the loop, and will only be run after the loop is finished running."
   ]
  },
  {
   "cell_type": "markdown",
   "metadata": {},
   "source": [
    "#### Example: Computing $s(t)$ over time\n",
    "\n",
    "Let us look at an example. Returning to our recurring example:\n",
    "$$s(t) = v_0 t + \\frac{1}{2}at^2.$$\n",
    "So far, we have only computed specific values for a given $t$. But say we instead want to print out a whole table of values, for different times. How can we do this?\n",
    "\n",
    "Let us this time change the scenario so that we are looking at a ball thrown straight up, so $a=-9.81$, and $v_0=12$. We now want to compute $s(t)$ over the first two seconds of the ball's flight. We then need to decide on how many $t$-values we want to cover. Let us say we write out the net distance travelled each $\\Delta t =0.1$ s."
   ]
  },
  {
   "cell_type": "code",
   "execution_count": 38,
   "metadata": {},
   "outputs": [
    {
     "name": "stdout",
     "output_type": "stream",
     "text": [
      "0.0  0.00\n",
      "0.1  1.15\n",
      "0.2  2.20\n",
      "0.3  3.16\n",
      "0.4  4.02\n",
      "0.5  4.77\n",
      "0.6  5.43\n",
      "0.7  6.00\n",
      "0.8  6.46\n",
      "0.9  6.83\n",
      "1.0  7.09\n",
      "1.1  7.26\n",
      "1.2  7.34\n",
      "1.3  7.31\n",
      "1.4  7.19\n",
      "1.5  6.96\n",
      "1.6  6.64\n",
      "1.7  6.22\n",
      "1.8  5.71\n",
      "1.9  5.09\n"
     ]
    }
   ],
   "source": [
    "# Parameters\n",
    "v0 = 12\n",
    "a = -9.81\n",
    "\n",
    "# Time\n",
    "dt = 0.1 # Increment per time step\n",
    "t = 0 # Starting time\n",
    "T = 2 # Final time\n",
    "\n",
    "# Loop\n",
    "while t <= T:\n",
    "    s = v0*t + 0.5*a*t**2\n",
    "    print(f\"{t:2.1f}  {s:4.2f}\")\n",
    "    t = t + dt"
   ]
  },
  {
   "cell_type": "markdown",
   "metadata": {},
   "source": [
    "In this loop, the time variable `t` starts at 0, and the loop continues as long as teh condition `t <= T` evaluates to true. Each time the loop is repeated, we add increment `t` by `dt`. This means that every time the loop runs, `t` grows by 0.1, untill it eventually reaches `T` and the loop ends.\n",
    "\n",
    "In addition to incrementing `t`, the loop computes `s(t)` and prints both in a neatly formatted table. Note that we write the format specifies `:2.1f` and `:4.2f`. The number before the decimal point specifies the width of characters to print. This is to keep the same column width.\n",
    "\n",
    "**Error in the code**\n",
    "\n",
    "There is something a bit strange with our code. According to the definition of the while-loop, we should keep going while $t \\leq T$, and $T=2$ s. This means the final pass of the loop should have `t=2`. HJowever, in the last print, we see that we only get to $t = 1.9$ s before the loop terminates. Why do we experience this behavior?\n",
    "\n",
    "To understand this, we need to understand that computers cannot represent decimal numbers precisely, and so while what we want `t` to be 2.0, the increments of `0.1` have not been perfectly represented on the computer, and so `t` is ever so slightly larger than 2. We can see this by printing to machine precision by using 16 decimal places"
   ]
  },
  {
   "cell_type": "code",
   "execution_count": 6,
   "metadata": {},
   "outputs": [
    {
     "name": "stdout",
     "output_type": "stream",
     "text": [
      "2.0000000000000004\n"
     ]
    }
   ],
   "source": [
    "print(\"{:.16f}\".format(t))"
   ]
  },
  {
   "cell_type": "markdown",
   "metadata": {},
   "source": [
    "For this reason, we should be careful when we want to test or compare floats! Note that this is not a problem specific to Python, but rather a problem with limited precision of computers, it is therefore a problem in any numerical programming, regardless of language."
   ]
  },
  {
   "cell_type": "markdown",
   "metadata": {},
   "source": [
    "#### Example: Computing until the ball hits the ground\n",
    "\n",
    "Here we used a while-loop to compute a table for the first two seconds, but we see that even at $t=2$, the ball has yet to hit the ground again. Let us therefore change things around so we instead keep computing untill the ball hits the ground. This is as simple as changing the condition of the while-loop. We change this condition to `while s >= 0`. As soon as $s$ becomes negative, we stop. However, now we also need to define some initial variable $s$, so that the program can check the condition the first time the loop in encountered."
   ]
  },
  {
   "cell_type": "code",
   "execution_count": 46,
   "metadata": {},
   "outputs": [
    {
     "name": "stdout",
     "output_type": "stream",
     "text": [
      "0.0  0.00\n",
      "0.1  1.15\n",
      "0.2  2.20\n",
      "0.3  3.16\n",
      "0.4  4.02\n",
      "0.5  4.77\n",
      "0.6  5.43\n",
      "0.7  6.00\n",
      "0.8  6.46\n",
      "0.9  6.83\n",
      "1.0  7.09\n",
      "1.1  7.26\n",
      "1.2  7.34\n",
      "1.3  7.31\n",
      "1.4  7.19\n",
      "1.5  6.96\n",
      "1.6  6.64\n",
      "1.7  6.22\n",
      "1.8  5.71\n",
      "1.9  5.09\n",
      "2.0  4.38\n",
      "2.1  3.57\n",
      "2.2  2.66\n",
      "2.3  1.65\n",
      "2.4  0.55\n",
      "2.5  -0.66\n"
     ]
    }
   ],
   "source": [
    "# Parameters\n",
    "v0 = 12\n",
    "a = -9.81\n",
    "\n",
    "# Time\n",
    "dt = 0.1 # Increment per time step\n",
    "t = 0 # Starting time\n",
    "T = 2 # Final time\n",
    "\n",
    "# Loop\n",
    "s = 0\n",
    "while s >= 0:\n",
    "    s = v0*t + 0.5*a*t**2\n",
    "    print(f\"{t:2.1f}  {s:4.2f}\")\n",
    "    t = t + dt"
   ]
  },
  {
   "cell_type": "markdown",
   "metadata": {},
   "source": [
    "We see that $t=2.5$ is the first time step where the ball has gone below $s=0$.\n",
    "\n",
    "This second example illustrates one of the major uses for *while*-loops, as they can allow us to compute to some given condition, even if we do not know how many steps we need to get there."
   ]
  },
  {
   "cell_type": "markdown",
   "metadata": {},
   "source": [
    "##### Your turn: Using a while loop to calculate interest\n",
    "\n",
    "Assume we have a savings account with an annual interest of 3.45%. If we deposit $10,000$ to the account, how many years do we need to wait before the money in the account has doubled?\n",
    "\n",
    "Fill in the skeleton below to answer this question."
   ]
  },
  {
   "cell_type": "code",
   "execution_count": null,
   "metadata": {
    "collapsed": true
   },
   "outputs": [],
   "source": [
    "# Fill in code to answer the question\n",
    "year = ...\n",
    "interest = ...\n",
    "money = ...\n",
    "\n",
    "while ...:\n",
    "    money *= ...\n",
    "    year += ...\n",
    "    \n",
    "print(...)"
   ]
  },
  {
   "cell_type": "markdown",
   "metadata": {},
   "source": [
    "## Lists and Sequences\n",
    "\n",
    "Earlier, we mentioned that Python has built-in datatypes for collections of values. We will look at some of these now. Collections are useful for storing a set of data that naturally belongs together, for example a set of measurements. Different collections are useful for different things.\n",
    "\n",
    "One of the more useful collections are *sequences*, often simply called lists. Lists are simply an ordered sequence of values. In Python, we can define such a sequence of values by writing them within square-brackets, and separating the different values by a comma"
   ]
  },
  {
   "cell_type": "code",
   "execution_count": 49,
   "metadata": {},
   "outputs": [],
   "source": [
    "primes = [2, 3, 5, 8, 11, 13, 17]"
   ]
  },
  {
   "cell_type": "markdown",
   "metadata": {},
   "source": [
    "Now, `primes` is a *list* variable. We say that it consists of 7 *elements*. We can find the length of a list with the function `len()`. We can also access individual elements as if they were individual variables through *indexing* by writing for example `primes[2]`, the number in the brackets is the *index*. Note that Python starts counting at 0, so `[2]` would be the *third* element."
   ]
  },
  {
   "cell_type": "code",
   "execution_count": 51,
   "metadata": {},
   "outputs": [
    {
     "name": "stdout",
     "output_type": "stream",
     "text": [
      "<class 'list'>\n",
      "7\n",
      "5\n"
     ]
    }
   ],
   "source": [
    "print(type(primes)) # Check the data type of the variable\n",
    "print(len(primes)) # Print the number of elements\n",
    "print(primes[2])  # Access an element by index. "
   ]
  },
  {
   "cell_type": "markdown",
   "metadata": {},
   "source": [
    "The use of `len` and indexing is not exclusive to Python lists, but can also be used on other collection data types. "
   ]
  },
  {
   "cell_type": "markdown",
   "metadata": {},
   "source": [
    "#### Appending elements\n",
    "\n",
    "Python lists have a series of *methods*, special functions we can use to change the lists in certain ways. One example is the method `.append`, which we can use to add new elements to a list. We can for example start with an empty list, and build it up element by element.\n",
    "\n",
    "Let us for example say we want a list of all powers of 2 less than 1000\n",
    "$$2^n < 1000.$$\n",
    "We could create these in a list by using a loop, and appending the elements one by one:"
   ]
  },
  {
   "cell_type": "code",
   "execution_count": 55,
   "metadata": {},
   "outputs": [],
   "source": [
    "powers = [] # Empty list\n",
    "n = 0\n",
    "\n",
    "while 2**n < 1000:\n",
    "    powers.append(2**n)\n",
    "    n += 1"
   ]
  },
  {
   "cell_type": "markdown",
   "metadata": {},
   "source": [
    "Here, the loop keeps incrementing $n$ untill $2^n$ grows beyond 1000. For each iteration of the loop, a new element is added to the list. To see the final list, we must print it:"
   ]
  },
  {
   "cell_type": "code",
   "execution_count": 56,
   "metadata": {},
   "outputs": [
    {
     "name": "stdout",
     "output_type": "stream",
     "text": [
      "[1, 2, 4, 8, 16, 32, 64, 128, 256, 512]\n"
     ]
    }
   ],
   "source": [
    "print(powers)"
   ]
  },
  {
   "cell_type": "markdown",
   "metadata": {},
   "source": [
    "### Other Useful List Methods\n",
    "\n",
    "We see that we can use `.append` to add an element to the end of a given list. Such a function is called a *method*, because it acts on a specific object. All list-objects will have access to the `.append()` method. Lists also have a series of other useful methods we can use.\n",
    "\n",
    "| Method | Description |\n",
    "| ------ | ----------- |\n",
    "| `.append(value)` | Add new element at end of list |\n",
    "| `.sort()` | Sort the list *in-place* |\n",
    "| `.reverse()` | Reverse the order of the list | \n",
    "| `.pop()` | Removes the last element of the list, and return it |\n",
    "| `.pop(index)` | Removes the element at a given index and return it |\n",
    "| `.remove(value)` | Remove the first occurance of a given value in the list |\n",
    "\n",
    "<center><b>Table:</b>Useful methods for list-objects.</center>"
   ]
  },
  {
   "cell_type": "markdown",
   "metadata": {},
   "source": [
    "For a more thorough description of Python lists, and the methods, see the [Python Tutorial](https://docs.python.org/3/tutorial/introduction.html#lists), or the [full reference on Python data structures](https://docs.python.org/3.7/tutorial/datastructures.html)."
   ]
  },
  {
   "cell_type": "markdown",
   "metadata": {},
   "source": [
    "## For loops\n",
    "\n",
    "We have briefly covered *while*-loops, now we cover *for*-loops. Where the while-loop repeats until a condition is met, the for loop goes through a collection of objects such as a list. We say that we loop over a list, or iterate through a list.\n",
    "\n",
    "The syntax for a for-loop in Python is as follows:\n",
    "\n",
    "```Python\n",
    "for <element> in <list>:\n",
    "    <codeblock to be repeated>\n",
    "    <codeblock to be repeated>\n",
    "    <codeblock to be repeated>\n",
    "```\n",
    "Here `<list>` should be replaced by the name of our list object, and `<element>` is a name we choose, this variable will be set to each element in the list as we progress through our list.\n",
    "\n",
    "We can for example loop through and print through the elements of our `t_list` and `s_list` variables:"
   ]
  },
  {
   "cell_type": "code",
   "execution_count": 9,
   "metadata": {},
   "outputs": [
    {
     "name": "stdout",
     "output_type": "stream",
     "text": [
      "0.1\n",
      "0.2\n",
      "0.3\n",
      "0.4\n",
      "0.5\n",
      "0.6\n",
      "0.7\n",
      "0.8\n",
      "0.9\n",
      "1.0\n",
      "1.1\n",
      "1.2\n",
      "1.3\n",
      "1.4\n",
      "1.5\n",
      "1.6\n",
      "1.7\n",
      "1.8\n",
      "1.9\n",
      "2.0\n"
     ]
    }
   ],
   "source": [
    "for t in t_list:\n",
    "    print(\"{:.1f}\".format(t))"
   ]
  },
  {
   "cell_type": "markdown",
   "metadata": {},
   "source": [
    "We can loop through both at the same time using `zip`:"
   ]
  },
  {
   "cell_type": "code",
   "execution_count": 10,
   "metadata": {},
   "outputs": [
    {
     "name": "stdout",
     "output_type": "stream",
     "text": [
      "0.1 0.00\n",
      "0.2 0.20\n",
      "0.3 0.40\n",
      "0.4 0.61\n",
      "0.5 0.82\n",
      "0.6 1.02\n",
      "0.7 1.24\n",
      "0.8 1.45\n",
      "0.9 1.66\n",
      "1.0 1.88\n",
      "1.1 2.10\n",
      "1.2 2.32\n",
      "1.3 2.54\n",
      "1.4 2.77\n",
      "1.5 3.00\n",
      "1.6 3.23\n",
      "1.7 3.46\n",
      "1.8 3.69\n",
      "1.9 3.92\n",
      "2.0 4.16\n"
     ]
    }
   ],
   "source": [
    "for t, s in zip(t_list, s_list):\n",
    "    print(\"{:.1f} {:.2f}\".format(t, s))"
   ]
  },
  {
   "cell_type": "markdown",
   "metadata": {},
   "source": [
    "Or we could use the `range` function to loop over the indices of the list. The function `range(n)` defines the list of integers from 0 to $n-1$, so if we write `for i in range(len(t_list)):` we loop over each index in the list exactly one."
   ]
  },
  {
   "cell_type": "code",
   "execution_count": 11,
   "metadata": {},
   "outputs": [
    {
     "name": "stdout",
     "output_type": "stream",
     "text": [
      "0.1 0.00\n",
      "0.2 0.20\n",
      "0.3 0.40\n",
      "0.4 0.61\n",
      "0.5 0.82\n",
      "0.6 1.02\n",
      "0.7 1.24\n",
      "0.8 1.45\n",
      "0.9 1.66\n",
      "1.0 1.88\n",
      "1.1 2.10\n",
      "1.2 2.32\n",
      "1.3 2.54\n",
      "1.4 2.77\n",
      "1.5 3.00\n",
      "1.6 3.23\n",
      "1.7 3.46\n",
      "1.8 3.69\n",
      "1.9 3.92\n",
      "2.0 4.16\n"
     ]
    }
   ],
   "source": [
    "for i in range(len(t_list)):\n",
    "    print(\"{:.1f} {:.2f}\".format(t_list[i], s_list[i]))"
   ]
  },
  {
   "cell_type": "markdown",
   "metadata": {},
   "source": [
    "We can also rewrite our program that calculated `t_list` and `s_list` to use a for-loop, rather than a while-loop:"
   ]
  },
  {
   "cell_type": "code",
   "execution_count": 12,
   "metadata": {},
   "outputs": [
    {
     "name": "stdout",
     "output_type": "stream",
     "text": [
      "0.1 0.00\n",
      "0.2 0.20\n",
      "0.3 0.40\n",
      "0.4 0.61\n",
      "0.5 0.82\n",
      "0.6 1.02\n",
      "0.7 1.24\n",
      "0.8 1.45\n",
      "0.9 1.66\n",
      "1.0 1.88\n",
      "1.1 2.10\n",
      "1.2 2.32\n",
      "1.3 2.54\n",
      "1.4 2.77\n",
      "1.5 3.00\n",
      "1.6 3.23\n",
      "1.7 3.46\n",
      "1.8 3.69\n",
      "1.9 3.92\n",
      "2.0 4.16\n"
     ]
    }
   ],
   "source": [
    "# Parameters\n",
    "v0 = 2\n",
    "a = 0.2\n",
    "\n",
    "# Time Parameters\n",
    "dt = 0.1 # Increment in time per step\n",
    "t = 0    # Start value in time\n",
    "T = 2    # Final time\n",
    "n = int(T/dt) # Number of time steps needed\n",
    "\n",
    "# Define empty lists\n",
    "t_list = []\n",
    "s_list = []\n",
    "\n",
    "# Loop\n",
    "for i in range(n):\n",
    "    s = v0*t + 0.5*a*t**2\n",
    "    t = t + dt\n",
    "    \n",
    "    # Append values to lists\n",
    "    t_list.append(t)\n",
    "    s_list.append(s)\n",
    "    \n",
    "\n",
    "for i in range(n):\n",
    "    print(\"{:.1f} {:.2f}\".format(t_list[i], s_list[i]))"
   ]
  },
  {
   "cell_type": "markdown",
   "metadata": {},
   "source": [
    "Here we first compute the number of steps we need to do in our for-loop as the variable `n`. Note that we write `int(T/dt)`, as we need the number of steps taken to be an integer, and not a float object (otherwhise the `range(n)` statement would crash our program, as `range` must take an integer in."
   ]
  },
  {
   "cell_type": "markdown",
   "metadata": {},
   "source": [
    "#### Exercise 4: Sum of an arithmetic series\n",
    "\n",
    "Use a for-loop and the `range`-function to find the sum of all integers from 1 to 1000. Use the arithmetic sum formula $s = n(n+1)/2$ to check your answer."
   ]
  },
  {
   "cell_type": "code",
   "execution_count": null,
   "metadata": {
    "collapsed": true
   },
   "outputs": [],
   "source": [
    "# Fill in code for ...\n",
    "total = 0\n",
    "for i in range(...):\n",
    "    total += ...\n",
    "    \n",
    "print(...)"
   ]
  },
  {
   "cell_type": "markdown",
   "metadata": {},
   "source": [
    "## Plotting\n",
    "\n",
    "One use for lists is plotting. Basic Python does not have access to plotting, and so we need to import this functionality, we do this by writing"
   ]
  },
  {
   "cell_type": "code",
   "execution_count": 13,
   "metadata": {
    "collapsed": true
   },
   "outputs": [],
   "source": [
    "import matplotlib.pyplot as plt"
   ]
  },
  {
   "cell_type": "markdown",
   "metadata": {},
   "source": [
    "We can now use `plt.` to access plotting functionality. The first thing we can do is plot our `t_list` and `s_list` against each other:"
   ]
  },
  {
   "cell_type": "code",
   "execution_count": 14,
   "metadata": {},
   "outputs": [
    {
     "data": {
      "image/png": "[encoded data removed]",
      "text/plain": [
       "<Figure size 432x288 with 1 Axes>"
      ]
     },
     "metadata": {},
     "output_type": "display_data"
    }
   ],
   "source": [
    "plt.plot(t_list, s_list)\n",
    "plt.xlabel('Time')\n",
    "plt.ylabel('Position')\n",
    "plt.show()"
   ]
  },
  {
   "cell_type": "markdown",
   "metadata": {},
   "source": [
    "This curve is not all that exciting, as it is nearly just a straight line. Let us instead plot a sine curve. To do this we will use some functionality from the *numpy* package (numerical python)."
   ]
  },
  {
   "cell_type": "code",
   "execution_count": 15,
   "metadata": {
    "collapsed": true
   },
   "outputs": [],
   "source": [
    "import numpy as np"
   ]
  },
  {
   "cell_type": "markdown",
   "metadata": {},
   "source": [
    "We can now define values along the `x`-axis using `linspace(min, max, points)`. This function, similar to matlab, gives a number of points evenly spaced between the two endpoints."
   ]
  },
  {
   "cell_type": "code",
   "execution_count": 16,
   "metadata": {
    "collapsed": true
   },
   "outputs": [],
   "source": [
    "# We want to plot two full periods (in radians)\n",
    "x = np.linspace(0, 4*np.pi, 11)"
   ]
  },
  {
   "cell_type": "markdown",
   "metadata": {},
   "source": [
    "We can now define our $y$-points using a for-loop, as we have seen earlier. However, `np.linspace` returns an array, which is well suited for calculating all the $y$-values simultaneously as a *vectorized* operation."
   ]
  },
  {
   "cell_type": "code",
   "execution_count": 17,
   "metadata": {
    "collapsed": true
   },
   "outputs": [],
   "source": [
    "y = np.sin(x)"
   ]
  },
  {
   "cell_type": "code",
   "execution_count": 18,
   "metadata": {},
   "outputs": [
    {
     "data": {
      "image/png": "[encoded data removed]",
      "text/plain": [
       "<Figure size 432x288 with 1 Axes>"
      ]
     },
     "metadata": {},
     "output_type": "display_data"
    }
   ],
   "source": [
    "plt.plot(x, y)\n",
    "plt.show()"
   ]
  },
  {
   "cell_type": "markdown",
   "metadata": {},
   "source": [
    "Our curve looks very jagged because we only use 11 points. We can see this more easily by adding a line formatting that shows the datapoints"
   ]
  },
  {
   "cell_type": "code",
   "execution_count": 19,
   "metadata": {},
   "outputs": [
    {
     "data": {
      "image/png": "[encoded data removed]",
      "text/plain": [
       "<Figure size 432x288 with 1 Axes>"
      ]
     },
     "metadata": {},
     "output_type": "display_data"
    }
   ],
   "source": [
    "plt.plot(x, y, 'o--')\n",
    "plt.show()"
   ]
  },
  {
   "cell_type": "markdown",
   "metadata": {},
   "source": [
    "Adding more points is easy, just tell `np.linspace` to make more."
   ]
  },
  {
   "cell_type": "code",
   "execution_count": 21,
   "metadata": {},
   "outputs": [
    {
     "data": {
      "image/png": "[encoded data removed]",
      "text/plain": [
       "<Figure size 432x288 with 1 Axes>"
      ]
     },
     "metadata": {},
     "output_type": "display_data"
    }
   ],
   "source": [
    "x = np.linspace(0, 4*np.pi, 1001)\n",
    "y = np.sin(x)\n",
    "\n",
    "plt.plot(x, y)\n",
    "plt.show()"
   ]
  },
  {
   "cell_type": "markdown",
   "metadata": {},
   "source": [
    "Numpy also has other common mathematical operations available in vectorized versions, including `log()`, `exp()` and `sqrt()`. Normal arithmetic operations also works well with arrays"
   ]
  },
  {
   "cell_type": "code",
   "execution_count": 22,
   "metadata": {},
   "outputs": [
    {
     "data": {
      "image/png": "[encoded data removed]",
      "text/plain": [
       "<Figure size 432x288 with 1 Axes>"
      ]
     },
     "metadata": {},
     "output_type": "display_data"
    }
   ],
   "source": [
    "x = np.linspace(-5, 5, 1001)\n",
    "y = -x**2 + 4*x - 5\n",
    "\n",
    "plt.plot(x, y)\n",
    "plt.show()"
   ]
  },
  {
   "cell_type": "markdown",
   "metadata": {},
   "source": [
    "#### Exercise 5: Plotting a damped sine wave\n",
    "\n",
    "Make a program that plots the function $g(y) = e^{-y}\\sin(4y)$ for $y\\in[0, 4]$."
   ]
  },
  {
   "cell_type": "markdown",
   "metadata": {},
   "source": [
    "#### Exercise 6: Plotting a circle\n",
    "\n",
    "Use `np.linspace` to define $\\theta \\in [0, 2\\pi]$, and then let $x = \\cos(\\theta)$ and $y = \\sin(\\theta)$. Plotting $(x, y)$ should now give a circle. Use `plt.axis('equal)` between your `plot` and `show` statements to make the dimensions of the $x$ and $y$ equal."
   ]
  },
  {
   "cell_type": "markdown",
   "metadata": {},
   "source": [
    "## Defining Functions\n",
    "\n",
    "In Python, you can easily define your own functions. Let us for example define our recurring example formula:"
   ]
  },
  {
   "cell_type": "code",
   "execution_count": 23,
   "metadata": {
    "collapsed": true
   },
   "outputs": [],
   "source": [
    "def s(t, v0, a):\n",
    "    return v0*t + 0.5*a*t**2"
   ]
  },
  {
   "cell_type": "markdown",
   "metadata": {},
   "source": [
    "Note that:\n",
    " * functions start with the keyword `def`\n",
    " * statements belonging to the function must be indented\n",
    " * function input is represented by arguments\n",
    "   (separated by comma if more than one)\n",
    " * function output is returned to the calling code with the keyword `return`\n",
    " * A function can return 0, 1, or several values (separated by comma if more than one)\n",
    " \n",
    "In this function, `v0` and `a` are taken as input in a similar way to `t`. Meaning we must supply them each time we call the formula:"
   ]
  },
  {
   "cell_type": "code",
   "execution_count": 24,
   "metadata": {},
   "outputs": [
    {
     "data": {
      "text/plain": [
       "12.5"
      ]
     },
     "execution_count": 24,
     "metadata": {},
     "output_type": "execute_result"
    }
   ],
   "source": [
    "s(5, 2.0, 0.2)"
   ]
  },
  {
   "cell_type": "markdown",
   "metadata": {},
   "source": [
    "If we think of $t$ as the variable, and $v_0$ and $a$ as parameters, this might not be what we want. We can define a function that can only take `t` as follows:"
   ]
  },
  {
   "cell_type": "code",
   "execution_count": 25,
   "metadata": {
    "collapsed": true
   },
   "outputs": [],
   "source": [
    "def s(t, v0=2.0, a=0.2):\n",
    "    return v0*t + 0.5*a*t**2"
   ]
  },
  {
   "cell_type": "markdown",
   "metadata": {},
   "source": [
    "In this example, `t` is a normal argument, that must be given in. While `v0` and `a` are *keyword*-arguments that are optional. We can now call with just $t$, or give $v_0$ and $a$ in addition. If we neglect to send in the parameters, they default to the values given when defining the function:"
   ]
  },
  {
   "cell_type": "code",
   "execution_count": 26,
   "metadata": {},
   "outputs": [
    {
     "name": "stdout",
     "output_type": "stream",
     "text": [
      "4.4\n",
      "10.4\n"
     ]
    }
   ],
   "source": [
    "print(s(2))\n",
    "print(s(2, v0=5.0))"
   ]
  },
  {
   "cell_type": "markdown",
   "metadata": {},
   "source": [
    "We could also have defined our function as `def s(v):`, but in this case `v0` and `a` would need to be defined as *global variables* or else they would have been undefined, giving us a `NameError`."
   ]
  },
  {
   "cell_type": "markdown",
   "metadata": {},
   "source": [
    "Using our newly defined function, and arrays, we can now easily calculate and plot the position of the object over time:"
   ]
  },
  {
   "cell_type": "code",
   "execution_count": 27,
   "metadata": {},
   "outputs": [
    {
     "data": {
      "image/png": "[encoded data removed]",
      "text/plain": [
       "<Figure size 432x288 with 1 Axes>"
      ]
     },
     "metadata": {},
     "output_type": "display_data"
    }
   ],
   "source": [
    "t = np.linspace(0, 2, 1001)\n",
    "y = s(t, v0=5.0, a=-9.81)\n",
    "\n",
    "plt.plot(t, y)\n",
    "plt.show()"
   ]
  },
  {
   "cell_type": "markdown",
   "metadata": {},
   "source": [
    "#### Exercise 7: Defining a Pythagoras function\n",
    "\n",
    "Pythagoras' claimed that $a^2 + b^2 = c^2$. Define a function called `hypothenus` that finds the length of the hypothenus given the length of the two catheti."
   ]
  },
  {
   "cell_type": "code",
   "execution_count": null,
   "metadata": {
    "collapsed": true
   },
   "outputs": [],
   "source": [
    "# Fill in code for \"...\"\n",
    "def hypothenus(...):\n",
    "    return ..."
   ]
  },
  {
   "cell_type": "markdown",
   "metadata": {},
   "source": [
    "## If-tests\n",
    "\n",
    "We won't say much about if-tests, they are similar to while-loops, in that they check a condition, however, they only do so a single time. The syntax is:\n",
    "```Python\n",
    "if condition1:\n",
    "    <statements when condition1 is True>\n",
    "elif condition2:\n",
    "    <statements when condition1 is False and condition2 is True>\n",
    "elif condition3:\n",
    "    <statements when condition1 and conditon 2 are False\n",
    "     and condition3 is True>\n",
    "else:\n",
    "    <statements when condition1/2/3 all are False>\n",
    "```\n",
    "The `elif` statement in Python is an abbrevation of `else if`. Note that an if-test does not necessarily need to have a corresponding elif or else block. Let us show a simple example of this:"
   ]
  },
  {
   "cell_type": "code",
   "execution_count": null,
   "metadata": {
    "collapsed": true
   },
   "outputs": [],
   "source": [
    "def divide(a, b):\n",
    "    if b == 0:\n",
    "        print(\"I can't divide by 0, silly.\")\n",
    "    else:\n",
    "        return a/b"
   ]
  },
  {
   "cell_type": "markdown",
   "metadata": {},
   "source": [
    "## Dictionaries\n",
    "\n",
    "Dictionaries in Python are a collection of objects, much like a list. However, unlike a list, a dictionary consists of key-value pairs, where the key is a text spring specifying the element. Also unlike a list, a dictionary is normally not an ordered collection (though ordered dictionaries do exist if you need them).\n",
    "\n",
    "For a model with many parameters for example, we could have all our parameters stored in a dictionary, where the keys would be the name of the parameters.\n"
   ]
  },
  {
   "cell_type": "code",
   "execution_count": null,
   "metadata": {
    "collapsed": true
   },
   "outputs": [],
   "source": [
    "param = {\"v0\": 5.0,\n",
    "         \"a\": -9.81}"
   ]
  }
 ],
 "metadata": {
  "kernelspec": {
   "display_name": "Python 3",
   "language": "python",
   "name": "python3"
  },
  "language_info": {
   "codemirror_mode": {
    "name": "ipython",
    "version": 3
   },
   "file_extension": ".py",
   "mimetype": "text/x-python",
   "name": "python",
   "nbconvert_exporter": "python",
   "pygments_lexer": "ipython3",
   "version": "3.6.6"
  }
 },
 "nbformat": 4,
 "nbformat_minor": 2
}
