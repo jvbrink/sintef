{
 "cells": [
  {
   "cell_type": "markdown",
   "metadata": {},
   "source": [
    "## Practice Exercises for Day 1\n",
    "\n",
    "These exercises are meant for you to practice your Python coding and the concepts you have been shown today. Note that these exercises might be a bit challenging for beginners, so please do not hestitate to collaborate on them, or ask us for advice or help if you get stuck.\n",
    "\n"
   ]
  },
  {
   "cell_type": "markdown",
   "metadata": {},
   "source": [
    "#### Exercise 1: Python as a Scientific Calculator\n",
    "\n",
    "The formula for the volume of a sphere is \n",
    "$$V = \\frac{4}{3}\\pi R^3.$$\n",
    "\n",
    "**1a)** The heart is close to a perfect sphere, and has a radius of approximately 6371 km. Compute the volume of the earth.\n",
    "\n",
    "**1b)** Redo your computations, but this time, change the units around so that the answer is in number of liters.\n",
    "\n",
    "**1c)** The total mass of the earth is approximately $M=5.972\\times 10^{24}$ kg. Compute the average density of the earth in terms of kg per liter. Does your answer seem reasonable?"
   ]
  },
  {
   "cell_type": "markdown",
   "metadata": {},
   "source": [
    "#### Exercise 2: Converting Temperatures\n",
    "\n",
    "To convert from degrees Celsius to degrees Fahrenheit you can use the formula\n",
    "$$F = \\frac{9}{5}C + 32.$$\n",
    "\n",
    "**2a)** Use the formula to compute how many degrees Fahrenheit 100$^\\circ$C corresponds to\n",
    "\n",
    "**2b)** Define a Python function called `C2F` which converts any given temperature from Celsius to Fahrenheit. Test that `C2F(100)` returns the same answer you found in 2a.\n",
    "\n",
    "**2c)** Define the inverse function, `F2C`, which takes instead degrees Fahrenheit as input, and returns the degrees Celsius as output."
   ]
  },
  {
   "cell_type": "markdown",
   "metadata": {},
   "source": [
    "#### Exercise 3) Grains of Rice\n",
    "\n",
    "If we place one grain of rice on the first square of a chessboard, two grains on the second square, four grains on the third square and so on for the rest of the board: How many grains of rice will we get in total? This can be written out as the sum\n",
    "$$1 + 2 + 4 + 8 + ...$$\n",
    "\n",
    "**a)** Use a for-loop and the `range` function to loop over all the squares of the chessboard and find the number of grains we get in total. Print your answer using scientific formatting (for example: \"`{total:.1e}`\").\n",
    "\n",
    "**b)** There are about 50,000 grains of rice in a 1 kg bag. Use a while-loop to find the number of squares we need to get at least 1 kg rice.\n"
   ]
  },
  {
   "cell_type": "markdown",
   "metadata": {},
   "source": [
    "#### Exercise 4) Functions and Plotting\n",
    "\n",
    "**4a)** Define the two quadratic functions\n",
    "$$f(x) = x^2 + 4x - 6,$$\n",
    "and \n",
    "$$g(x) = -2x^2 + 6x + 6.$$\n",
    "\n",
    "**4b)** Import numpy as `np` and `matplotlib.pyplot` as `plt`\n",
    "\n",
    "**4c)** Use `np.linspace` to define a large number of $x$-values between -5 and 5. Recall that `np.linspace(min, max, n)` creates $n$ uniformly spaced values between the two boundaries.\n",
    "\n",
    "**4d)** Use `plt.plot` to plot $f(x)$ and $g(x)$ into the same plot for $x\\in[-5, 5]$. To plot two curves in the same plot, simply do two `plt.plot` commands before you do `plt.show`.\n",
    "\n",
    "**4e)** For what values of $x$ do the two functions intersect?"
   ]
  },
  {
   "cell_type": "markdown",
   "metadata": {},
   "source": [
    "#### Exercise 5) Multiples of 3 and 5\n",
    "\n",
    "(This exercise is taken from [projecteuler.net](https://projecteuler.net/problem=1), where it is Problem 1)\n",
    "\n",
    "If we list all the natural numbers below 10 that are multiples of 3 or 5, we get 3, 5, 6 and 9. The sum of these multiples is 23.\n",
    "\n",
    "Find the sum of all the multiples of 3 or 5 below 1000."
   ]
  },
  {
   "cell_type": "markdown",
   "metadata": {},
   "source": [
    "#### Exercise 6) Finding the 10001st Prime Number\n",
    "\n",
    "(This exercise is taken from projecteuler.net, where it is Problem 7)\n",
    "\n",
    "By listing the first six prime numbers: 2, 3, 5, 7, 11, and 13, we can see that the 6th prime is 13.\n",
    "\n",
    "What is the 10001st prime number?\n",
    "\n",
    "**a)** To answer this question, first define a function `is_prime`, that checks wether a given integer is a prime or not. Feel free to look at the example in the lecture notes.\n",
    "\n",
    "**b)** Using your function, use a while-loop to keep looking for primes untill you found 10001."
   ]
  }
 ],
 "metadata": {
  "kernelspec": {
   "display_name": "Python 3",
   "language": "python",
   "name": "python3"
  },
  "language_info": {
   "codemirror_mode": {
    "name": "ipython",
    "version": 3
   },
   "file_extension": ".py",
   "mimetype": "text/x-python",
   "name": "python",
   "nbconvert_exporter": "python",
   "pygments_lexer": "ipython3",
   "version": "3.6.1"
  }
 },
 "nbformat": 4,
 "nbformat_minor": 2
}
