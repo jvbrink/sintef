{
 "cells": [
  {
   "cell_type": "markdown",
   "metadata": {},
   "source": [
    "#### Computing Name Scores\n",
    "\n",
    "This exercise is taken from Project Euler, where it is [Problem 22](https://projecteuler.net/problem=22).\n",
    "\n",
    "#### a)\n",
    "\n",
    "The file `names.txt` contains over five-thousand first names separated by a comma. Find a way to read this file and get these names into a list. Before moving on, verify that the names seem to have been read in correctly.\n",
    "\n",
    "#### b) \n",
    "\n",
    "Sort your list of names, so that it is in an alphabetical order. Verify that the list seems to be sorted.\n",
    "\n",
    "**Hint:** There is a built-in function called `sorted` that returns a sorted copy of a given sequence. Python lists also have the very handy `.sort()` method you can use, which instead sorts the list *in-place*.\n",
    "\n",
    "#### c) \n",
    "\n",
    "We now want to associate an alphabetical value with each name. For a given name, each letter in that name is given a score equal to its position in the alphabet. The value for the whole name is the sum of each letter's value.\n",
    "\n",
    "Take for instance the name `COLIN`, which would be\n",
    "$$3 + 15 + 12 + 9 + 14 = 53.$$\n",
    "\n",
    "Define a function `alphabetical_value(name)` that takes a name in as a string, and returns the value of that name. Verify that it works by checking that `alphabetical_value('COLIN')` returns 53.\n",
    "\n",
    "**Hint:** To get a letters position in the alphabet, you can first define the alphabet as a string, and then use `.find()` to find the position of a letter in the alphabet. Be aware that Python starts counting at 0 however, so `alphabet.find('A')` would give us 0, instead of 1.\n",
    "\n",
    "#### d) \n",
    "\n",
    "We now want to compute a score for each name in the list of names, by first computing it's alphabetical value, as above, and then multiplying this value with the names position in the list. We found that `COLIN` had a value of 53,  so if this name was for example 938th in the list, this name would obtain a score of \n",
    "$$938 \\times 53 = 49714.$$\n",
    "\n",
    "Use a `for`-loop to loop over the entire list, computing the score of each name in the list and add them all together. What is the total score of all the names in the complete file?"
   ]
  }
 ],
 "metadata": {
  "kernelspec": {
   "display_name": "Python 3",
   "language": "python",
   "name": "python3"
  },
  "language_info": {
   "codemirror_mode": {
    "name": "ipython",
    "version": 3
   },
   "file_extension": ".py",
   "mimetype": "text/x-python",
   "name": "python",
   "nbconvert_exporter": "python",
   "pygments_lexer": "ipython3",
   "version": "3.6.6"
  }
 },
 "nbformat": 4,
 "nbformat_minor": 2
}
